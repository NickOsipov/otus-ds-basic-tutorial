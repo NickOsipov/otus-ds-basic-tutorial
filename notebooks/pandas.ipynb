{
  "cells": [
    {
      "cell_type": "markdown",
      "metadata": {
        "id": "view-in-github",
        "colab_type": "text"
      },
      "source": [
        "<a href=\"https://colab.research.google.com/github/NickOsipov/otus-ds-basic-tutorial/blob/main/notebooks/pandas.ipynb\" target=\"_parent\"><img src=\"https://colab.research.google.com/assets/colab-badge.svg\" alt=\"Open In Colab\"/></a>"
      ]
    },
    {
      "cell_type": "markdown",
      "metadata": {
        "id": "fp5x2kTKF3gd"
      },
      "source": [
        "# 10 минут с pandas\n",
        "\n",
        "Краткий интерактивный ноутбук для быстрого освоения библиотеки **pandas** — на русском языке. Каждый раздел содержит пример кода и краткое пояснение[1]."
      ]
    },
    {
      "cell_type": "markdown",
      "metadata": {
        "id": "dQw_N7qEF3gg"
      },
      "source": [
        "## Импорт необходимых библиотек\n",
        "\n",
        "**Совет преподавателя**: В мире анализа данных эти две библиотеки — ваши верные спутники:\n",
        "- **NumPy** — математический фундамент для работы с массивами и матрицами\n",
        "- **Pandas** — \"швейцарский нож\" для обработки табличных данных (как Excel, но мощнее!)\n",
        "\n",
        "**Конвенция**: Всегда импортируйте pandas как `pd`, а numpy как `np` — это стандарт, который используют все специалисты"
      ]
    },
    {
      "cell_type": "code",
      "execution_count": null,
      "metadata": {
        "id": "qmc6BP0OF3gh"
      },
      "outputs": [],
      "source": [
        "import numpy as np\n",
        "import pandas as pd"
      ]
    },
    {
      "cell_type": "markdown",
      "metadata": {
        "id": "IKIg-22zF3gi"
      },
      "source": [
        "## Основные структуры данных pandas\n",
        "\n",
        "**Аналогия для новичков**: Если представить данные как здание, то:\n",
        "- **Series** — это отдельная колонна здания. Одномерная структура с индексами, как список с подписанными элементами\n",
        "- **DataFrame** — это вся каркасная конструкция здания. Двумерная таблица, где Series объединены в единую структуру\n",
        "\n",
        "**Практическое понимание**:\n",
        "- Series = одна колонка в Excel с именами строк\n",
        "- DataFrame = целый лист Excel с именованными колонками и строками\n",
        "\n",
        "**Почему это важно**: 90% работы аналитика данных — это манипуляции с DataFrame'ами"
      ]
    },
    {
      "cell_type": "markdown",
      "metadata": {
        "id": "58fBk-IFF3gj"
      },
      "source": [
        "## Создание объектов\n",
        "\n",
        "**Урок первый**: Есть несколько способов создать данные в pandas. Начнем с самого простого.\n",
        "\n",
        "**Series из списка:**\n",
        "\n",
        "**Объяснение**: Series — это как улучшенный список Python. Обратите внимание, что pandas автоматически добавляет индексы (0, 1, 2...) и может работать с NaN (не число)."
      ]
    },
    {
      "cell_type": "code",
      "execution_count": null,
      "metadata": {
        "id": "uZEUqc7jF3gj"
      },
      "outputs": [],
      "source": [
        "s = pd.Series([1, 3, 5, np.nan, 6, 8])\n",
        "print(s)"
      ]
    },
    {
      "cell_type": "markdown",
      "metadata": {
        "id": "u3WhDxvDF3gj"
      },
      "source": [
        "**DataFrame из numpy-матрицы с датами:**\n",
        "\n",
        "**Практический совет**: Это классический способ создания тестовых данных для экспериментов.\n",
        "- `pd.date_range()` создает последовательность дат\n",
        "- `np.random.randn()` генерирует случайные числа по нормальному распределению\n",
        "- Параметр `columns=list(\"ABCD\")` создает колонки A, B, C, D"
      ]
    },
    {
      "cell_type": "code",
      "execution_count": null,
      "metadata": {
        "id": "9ornfHfYF3gk"
      },
      "outputs": [],
      "source": [
        "dates = pd.date_range(\"20130101\", periods=6)\n",
        "df = pd.DataFrame(np.random.randn(6, 4), index=dates, columns=list(\"ABCD\"))\n",
        "print(df)"
      ]
    },
    {
      "cell_type": "markdown",
      "metadata": {
        "id": "scLwcPGYF3gk"
      },
      "source": [
        "**DataFrame из словаря:**\n",
        "\n",
        "**Важно понимать**: Этот пример показывает гибкость pandas — можете смешивать разные типы данных:\n",
        "- Числа с плавающей точкой (float)\n",
        "- Временные метки (Timestamp)\n",
        "- Категориальные данные (Categorical)\n",
        "- Массивы numpy\n",
        "- Просто строки\n",
        "\n",
        "**Обратите внимание на `df2.dtypes`** — это покажет, какие типы данных pandas автоматически определил для каждой колонки."
      ]
    },
    {
      "cell_type": "code",
      "execution_count": null,
      "metadata": {
        "id": "rwTKZpcIF3gl"
      },
      "outputs": [],
      "source": [
        "df2 = pd.DataFrame({\n",
        "    \"A\": 1.0,\n",
        "    \"B\": pd.Timestamp(\"20130102\"),\n",
        "    \"C\": pd.Series(1, index=list(range(4)), dtype=\"float32\"),\n",
        "    \"D\": np.array([3] * 4, dtype=\"int32\"),\n",
        "    \"E\": pd.Categorical([\"test\", \"train\", \"test\", \"train\"]),\n",
        "    \"F\": \"foo\"\n",
        "})\n",
        "print(df2)\n",
        "print(df2.dtypes)"
      ]
    },
    {
      "cell_type": "markdown",
      "metadata": {
        "id": "YcTvP9rjF3gl"
      },
      "source": [
        "## Просмотр данных\n",
        "\n",
        "**Урок второй**: Первое, что делает любой аналитик после загрузки данных — это \"разведка\". Вот основные команды разведчика:\n",
        "\n",
        "**Первые строки:**\n",
        "\n",
        "**Зачем это нужно**: `head()` показывает первые 5 строк (по умолчанию). Это как \"предварительный просмотр\" ваших данных. Помогает понять структуру и типы данных."
      ]
    },
    {
      "cell_type": "code",
      "execution_count": null,
      "metadata": {
        "id": "sofZWyCFF3gl"
      },
      "outputs": [],
      "source": [
        "print(df.head())"
      ]
    },
    {
      "cell_type": "markdown",
      "metadata": {
        "id": "R6B4V2neF3gm"
      },
      "source": [
        "**Последние строки:**\n",
        "\n",
        "**Практический совет**: `tail(3)` показывает последние 3 строки. Особенно полезно для проверки, что данные загрузились полностью и нет обрезки в конце файла."
      ]
    },
    {
      "cell_type": "code",
      "execution_count": null,
      "metadata": {
        "id": "E1Z_0uvXF3gm"
      },
      "outputs": [],
      "source": [
        "print(df.tail(3))"
      ]
    },
    {
      "cell_type": "markdown",
      "metadata": {
        "id": "J1gznjj7F3gm"
      },
      "source": [
        "**Индексы и столбцы:**\n",
        "\n",
        "**Понимание архитектуры**:\n",
        "- `df.index` — показывает метки строк (в нашем случае — даты)\n",
        "- `df.columns` — показывает названия столбцов\n",
        "- Это основа для навигации по данным"
      ]
    },
    {
      "cell_type": "code",
      "execution_count": null,
      "metadata": {
        "id": "ZE9wkPehF3gm"
      },
      "outputs": [],
      "source": [
        "print(df.index)\n",
        "print(df.columns)"
      ]
    },
    {
      "cell_type": "markdown",
      "metadata": {
        "id": "yDt7JocQF3gm"
      },
      "source": [
        "**Массив numpy данных:**\n",
        "\n",
        "**Под капотом**: `to_numpy()` показывает сырые данные без индексов и названий колонок. Иногда нужно для передачи в алгоритмы машинного обучения, которые работают с numpy массивами."
      ]
    },
    {
      "cell_type": "code",
      "execution_count": null,
      "metadata": {
        "id": "Tr9-HZJMF3gm"
      },
      "outputs": [],
      "source": [
        "print(df.to_numpy())\n",
        "print(df2.to_numpy())"
      ]
    },
    {
      "cell_type": "markdown",
      "metadata": {
        "id": "X-gHGdliF3gn"
      },
      "source": [
        "## Быстрые статистики\n",
        "\n",
        "**Урок третий**: Разведочный анализ данных начинается с базовой статистики.\n",
        "\n",
        "**Краткое описание:**\n",
        "\n",
        "**Золотая команда**: `describe()` — ваш лучший друг! Показывает count (количество), mean (среднее), std (стандартное отклонение), min/max и квартили. Это первое, что нужно запустить на новых данных."
      ]
    },
    {
      "cell_type": "code",
      "execution_count": null,
      "metadata": {
        "id": "27rhjhoZF3gn"
      },
      "outputs": [],
      "source": [
        "print(df.describe())"
      ]
    },
    {
      "cell_type": "markdown",
      "metadata": {
        "id": "6IritdMWF3gn"
      },
      "source": [
        "**Транспонирование:**"
      ]
    },
    {
      "cell_type": "code",
      "execution_count": null,
      "metadata": {
        "id": "r0x8CBOsF3gn"
      },
      "outputs": [],
      "source": [
        "print(df.T)"
      ]
    },
    {
      "cell_type": "markdown",
      "metadata": {
        "id": "webAhWoHF3gn"
      },
      "source": [
        "**Сортировка по оси или значениям:**"
      ]
    },
    {
      "cell_type": "code",
      "execution_count": null,
      "metadata": {
        "id": "xsQqSqo4F3gn"
      },
      "outputs": [],
      "source": [
        "print(df.sort_index(axis=1, ascending=False))\n",
        "print(df.sort_values(by=\"B\"))"
      ]
    },
    {
      "cell_type": "markdown",
      "metadata": {
        "id": "Zamj2t5FF3gn"
      },
      "source": [
        "## Выбор данных\n",
        "\n",
        "**Урок четвертый**: Самый важный навык — уметь \"нарезать\" данные нужными кусочками.\n",
        "\n",
        "**По ключу (столбец):**\n",
        "\n",
        "**Основы индексации**: `df[\"A\"]` — выбираете колонку A. Получаете Series. Это как выбрать одну колонку в Excel."
      ]
    },
    {
      "cell_type": "code",
      "execution_count": null,
      "metadata": {
        "id": "keVy_VDGF3go"
      },
      "outputs": [],
      "source": [
        "print(df[\"A\"])"
      ]
    },
    {
      "cell_type": "markdown",
      "metadata": {
        "id": "JpF7FrFJF3go"
      },
      "source": [
        "**По срезу строк:**\n",
        "\n",
        "**Понимание срезов**:\n",
        "- `df[0:3]` — строки по позициям (первые 3)\n",
        "- `df[\"20130102\":\"20130104\"]` — строки по значениям индекса (по датам)\n",
        "- Pandas умный: понимает, что вы хотите выбрать по датам!"
      ]
    },
    {
      "cell_type": "code",
      "execution_count": null,
      "metadata": {
        "id": "C5-ZPs4OF3go"
      },
      "outputs": [],
      "source": [
        "print(df[0:3])\n",
        "print(df[\"20130102\":\"20130104\"])"
      ]
    },
    {
      "cell_type": "markdown",
      "metadata": {
        "id": "zNWv5xJXF3go"
      },
      "source": [
        "**По метке с помощью loc:**\n",
        "\n",
        "**Мастер-класс loc**:\n",
        "- `loc` = location (местоположение)\n",
        "- `df.loc[строки, колонки]` — явное указание что и где выбирать\n",
        "- `:` означает \"все\" (как в numpy)\n",
        "- `loc` работает с МЕТКАМИ (названиями), а не позициями"
      ]
    },
    {
      "cell_type": "code",
      "execution_count": null,
      "metadata": {
        "id": "_VhehH5NF3go"
      },
      "outputs": [],
      "source": [
        "print(df.loc[dates[0]])\n",
        "print(df.loc[:, [\"A\", \"B\"]])\n",
        "print(df.loc[\"20130102\":\"20130104\", [\"A\", \"B\"]])\n",
        "print(df.loc[dates[0], \"A\"])"
      ]
    },
    {
      "cell_type": "markdown",
      "metadata": {
        "id": "tBenJusaF3go"
      },
      "source": [
        "**По позиции с помощью iloc:**\n",
        "\n",
        "**Мастер-класс iloc**:\n",
        "- `iloc` = integer location (целочисленное местоположение)\n",
        "- `df.iloc[строки, колонки]` — работает только с ЧИСЛОВЫМИ позициями\n",
        "- Как индексы в обычных списках Python: 0, 1, 2...\n",
        "- `iloc[1, 1]` — строка 1, колонка 1 (начиная с 0)"
      ]
    },
    {
      "cell_type": "code",
      "execution_count": null,
      "metadata": {
        "id": "ZBuNy1x6F3gp"
      },
      "outputs": [],
      "source": [
        "print(df.iloc[3])\n",
        "print(df.iloc[3:5, 0:2])\n",
        "print(df.iloc[[1, 2, 4], [0, 2]])\n",
        "print(df.iloc[1:3, :])\n",
        "print(df.iloc[:, 1:3])\n",
        "print(df.iloc[1, 1])"
      ]
    },
    {
      "cell_type": "markdown",
      "metadata": {
        "id": "m85q1UeAF3gp"
      },
      "source": [
        "## Булевый индекс\n",
        "\n",
        "**Урок пятый**: Самая мощная фича pandas — фильтрация по условиям!\n",
        "\n",
        "**Фильтрация по условию:**\n",
        "\n",
        "**Магия булевых масок**:\n",
        "- `df[\"A\"] > 0` создает маску True/False для каждой строки\n",
        "- `df[маска]` оставляет только строки где True\n",
        "- Это основа для всех фильтров в анализе данных!"
      ]
    },
    {
      "cell_type": "code",
      "execution_count": null,
      "metadata": {
        "id": "CGcupHMGF3gp"
      },
      "outputs": [],
      "source": [
        "print(df[df[\"A\"] > 0])\n",
        "print(df[df > 0])"
      ]
    },
    {
      "cell_type": "markdown",
      "metadata": {
        "id": "OwQ0YZ9tF3gp"
      },
      "source": [
        "**Фильтрация по значениям:**\n",
        "\n",
        "**Продвинутая фильтрация**:\n",
        "- `isin([список])` — проверяет, входит ли значение в список\n",
        "- Аналог SQL: `WHERE column IN ('val1', 'val2')`\n",
        "- Очень удобно для категориальных данных"
      ]
    },
    {
      "cell_type": "code",
      "execution_count": null,
      "metadata": {
        "id": "b1jLB21jF3gp"
      },
      "outputs": [],
      "source": [
        "df2 = df.copy()\n",
        "df2[\"E\"] = [\"one\", \"one\", \"two\", \"three\", \"four\", \"three\"]\n",
        "print(df2[df2[\"E\"].isin([\"two\", \"four\"])])"
      ]
    },
    {
      "cell_type": "markdown",
      "metadata": {
        "id": "WNH8uSutF3gq"
      },
      "source": [
        "## Изменение данных\n",
        "\n",
        "**Добавление столбца:**"
      ]
    },
    {
      "cell_type": "code",
      "execution_count": null,
      "metadata": {
        "id": "wTbMPBShF3gq"
      },
      "outputs": [],
      "source": [
        "s1 = pd.Series([1, 2, 3, 4, 5, 6], index=pd.date_range(\"20130102\", periods=6))\n",
        "df[\"F\"] = s1"
      ]
    },
    {
      "cell_type": "markdown",
      "metadata": {
        "id": "fLTkfDNgF3gq"
      },
      "source": [
        "**Изменение значений по метке или позиции:**"
      ]
    },
    {
      "cell_type": "code",
      "execution_count": null,
      "metadata": {
        "id": "DLbND4UnF3gu"
      },
      "outputs": [],
      "source": [
        "df.at[dates[0], \"A\"] = 0\n",
        "df.iat[0, 1] = 0\n",
        "df.loc[:, \"D\"] = np.array([5] * len(df))\n",
        "print(df)"
      ]
    },
    {
      "cell_type": "markdown",
      "metadata": {
        "id": "eeTxF5IXF3gu"
      },
      "source": [
        "**where-операция:**"
      ]
    },
    {
      "cell_type": "code",
      "execution_count": null,
      "metadata": {
        "id": "kqVaARhTF3gu"
      },
      "outputs": [],
      "source": [
        "df2 = df.copy()\n",
        "df2[df2 > 0] = -df2\n",
        "print(df2)"
      ]
    },
    {
      "cell_type": "markdown",
      "metadata": {
        "id": "BftBqRZpF3gv"
      },
      "source": [
        "## Работа с пропущенными данными\n",
        "\n",
        "**Проверка, заполнение и удаление:**"
      ]
    },
    {
      "cell_type": "code",
      "execution_count": null,
      "metadata": {
        "id": "3HCmCczoF3gv"
      },
      "outputs": [],
      "source": [
        "df1 = df.reindex(index=dates[0:4], columns=list(df.columns) + [\"E\"])\n",
        "df1.loc[dates[0]:dates[1], \"E\"] = 1\n",
        "print(df1.dropna(how=\"any\"))\n",
        "print(df1.fillna(value=5))\n",
        "print(pd.isna(df1))"
      ]
    },
    {
      "cell_type": "markdown",
      "metadata": {
        "id": "apZfJoXvF3gv"
      },
      "source": [
        "## Операции\n",
        "\n",
        "**Урок шестой**: Pandas — это Excel на стероидах. Любые вычисления по строкам и колонкам.\n",
        "\n",
        "**Статистика по столбцам и строкам:**\n",
        "\n",
        "**Понимание осей**:\n",
        "- `axis=0` или без параметра — операция по колонкам (результат для каждой колонки)\n",
        "- `axis=1` — операция по строкам (результат для каждой строки)\n",
        "- Запомните: axis=0 \"схлопывает\" строки, axis=1 \"схлопывает\" колонки"
      ]
    },
    {
      "cell_type": "code",
      "execution_count": null,
      "metadata": {
        "id": "qUbxsqAtF3gv"
      },
      "outputs": [],
      "source": [
        "print(df.mean())\n",
        "print(df.mean(axis=1))"
      ]
    },
    {
      "cell_type": "markdown",
      "metadata": {
        "id": "hFYUW_PCF3gv"
      },
      "source": [
        "**Операции с выравниванием по индексам:**"
      ]
    },
    {
      "cell_type": "code",
      "execution_count": null,
      "metadata": {
        "id": "-fvvFJN3F3gv"
      },
      "outputs": [],
      "source": [
        "s = pd.Series([1, 3, 5, np.nan, 6, 8], index=dates).shift(2)\n",
        "print(df.sub(s, axis=\"index\"))"
      ]
    },
    {
      "cell_type": "markdown",
      "metadata": {
        "id": "5CkMDdNbF3gv"
      },
      "source": [
        "**Собственные функции и трансформации:**"
      ]
    },
    {
      "cell_type": "code",
      "execution_count": null,
      "metadata": {
        "id": "3wP09RK4F3gw"
      },
      "outputs": [],
      "source": [
        "print(df.agg(lambda x: np.mean(x) * 5.6))\n",
        "print(df.transform(lambda x: x * 101.2))"
      ]
    },
    {
      "cell_type": "markdown",
      "metadata": {
        "id": "g_zwi4bjF3gw"
      },
      "source": [
        "**Value Counts и строковые методы:**"
      ]
    },
    {
      "cell_type": "code",
      "execution_count": null,
      "metadata": {
        "id": "__KLnrzCF3gw"
      },
      "outputs": [],
      "source": [
        "s = pd.Series(np.random.randint(0, 7, size=10))\n",
        "print(s.value_counts())\n",
        "\n",
        "s = pd.Series([\"A\", \"B\", \"C\", \"Aaba\", \"Baca\", np.nan, \"CABA\", \"dog\", \"cat\"])\n",
        "print(s.str.lower())"
      ]
    },
    {
      "cell_type": "markdown",
      "metadata": {
        "id": "OrOyb2QEF3gw"
      },
      "source": [
        "## Объединение данных\n",
        "\n",
        "**Конкатенация:**"
      ]
    },
    {
      "cell_type": "code",
      "execution_count": null,
      "metadata": {
        "id": "IeP-ox9zF3gw"
      },
      "outputs": [],
      "source": [
        "df = pd.DataFrame(np.random.randn(10, 4))\n",
        "pieces = [df[:3], df[3:7], df[7:]]\n",
        "print(pd.concat(pieces))"
      ]
    },
    {
      "cell_type": "markdown",
      "metadata": {
        "id": "xf304pwyF3gx"
      },
      "source": [
        "**SQL-подобное объединение (merge):**"
      ]
    },
    {
      "cell_type": "code",
      "execution_count": null,
      "metadata": {
        "id": "5NxYuI-AF3gx"
      },
      "outputs": [],
      "source": [
        "left = pd.DataFrame({\"key\": [\"foo\", \"foo\"], \"lval\": [1, 2]})\n",
        "right = pd.DataFrame({\"key\": [\"foo\", \"foo\"], \"rval\": [4, 5]})\n",
        "print(pd.merge(left, right, on=\"key\"))"
      ]
    },
    {
      "cell_type": "markdown",
      "metadata": {
        "id": "2vSOYsu6F3gx"
      },
      "source": [
        "## Группировка\n",
        "\n",
        "**Урок седьмой**: Группировка — это SQL в pandas. Самая мощная техника для анализа.\n",
        "\n",
        "**Группировка и агрегация:**\n",
        "\n",
        "**Концепция группировки**:\n",
        "1. **Split** (разделить) — разбиваем данные по группам\n",
        "2. **Apply** (применить) — применяем функцию к каждой группе  \n",
        "3. **Combine** (объединить) — собираем результаты обратно\n",
        "\n",
        "**Практическое применение**:\n",
        "- `groupby(\"A\")` — группируем по колонке A\n",
        "- `[[\"C\", \"D\"]]` — выбираем колонки для агрегации\n",
        "- `.sum()` — применяем функцию суммирования к каждой группе"
      ]
    },
    {
      "cell_type": "code",
      "execution_count": null,
      "metadata": {
        "id": "gmcq5FcZF3gx"
      },
      "outputs": [],
      "source": [
        "df = pd.DataFrame({\n",
        "    \"A\": [\"foo\", \"bar\", \"foo\", \"bar\", \"foo\", \"bar\", \"foo\", \"foo\"],\n",
        "    \"B\": [\"one\", \"one\", \"two\", \"three\", \"two\", \"two\", \"one\", \"three\"],\n",
        "    \"C\": np.random.randn(8),\n",
        "    \"D\": np.random.randn(8)\n",
        "})\n",
        "print(df.groupby(\"A\")[[\"C\", \"D\"]].sum())\n",
        "print(df.groupby([\"A\", \"B\"]).sum())"
      ]
    },
    {
      "cell_type": "markdown",
      "metadata": {
        "id": "_wRGFyWyF3gx"
      },
      "source": [
        "## Изменение формы данных\n",
        "\n",
        "**Stack/Unstack и сводные таблицы:**"
      ]
    },
    {
      "cell_type": "code",
      "execution_count": null,
      "metadata": {
        "id": "NlUUvxTNF3gy"
      },
      "outputs": [],
      "source": [
        "arrays = [\n",
        "    [\"bar\", \"bar\", \"baz\", \"baz\", \"foo\", \"foo\", \"qux\", \"qux\"],\n",
        "    [\"one\", \"two\", \"one\", \"two\", \"one\", \"two\", \"one\", \"two\"],\n",
        "]\n",
        "index = pd.MultiIndex.from_arrays(arrays, names=[\"first\", \"second\"])\n",
        "df = pd.DataFrame(np.random.randn(8, 2), index=index, columns=[\"A\", \"B\"])\n",
        "df2 = df[:4]\n",
        "stacked = df2.stack()\n",
        "print(stacked)\n",
        "print(stacked.unstack())\n",
        "print(stacked.unstack(1))\n",
        "print(stacked.unstack(0))"
      ]
    },
    {
      "cell_type": "code",
      "execution_count": null,
      "metadata": {
        "id": "kKLDk1fRF3gy"
      },
      "outputs": [],
      "source": [
        "# Сводная таблица\n",
        "df = pd.DataFrame({\n",
        "    \"A\": [\"one\", \"one\", \"two\", \"three\"] * 3,\n",
        "    \"B\": [\"A\", \"B\", \"C\"] * 4,\n",
        "    \"C\": [\"foo\", \"foo\", \"foo\", \"bar\", \"bar\", \"bar\"] * 2,\n",
        "    \"D\": np.random.randn(12),\n",
        "    \"E\": np.random.randn(12),\n",
        "})\n",
        "print(pd.pivot_table(df, values=\"D\", index=[\"A\", \"B\"], columns=[\"C\"]))"
      ]
    },
    {
      "cell_type": "markdown",
      "metadata": {
        "id": "C_-PlHisF3gy"
      },
      "source": [
        "## Временные ряды\n",
        "\n",
        "**Создание меток, ресемплирование, работа с временными зонами:**"
      ]
    },
    {
      "cell_type": "code",
      "execution_count": null,
      "metadata": {
        "id": "95-2S_-uF3gy"
      },
      "outputs": [],
      "source": [
        "rng = pd.date_range(\"1/1/2012\", periods=100, freq=\"S\")\n",
        "ts = pd.Series(np.random.randint(0, 500, len(rng)), index=rng)\n",
        "print(ts.resample(\"5Min\").sum())"
      ]
    },
    {
      "cell_type": "code",
      "execution_count": null,
      "metadata": {
        "id": "-pvg_-hwF3gy"
      },
      "outputs": [],
      "source": [
        "# Временная зона\n",
        "rng = pd.date_range(\"3/6/2012 00:00\", periods=5, freq=\"D\")\n",
        "ts = pd.Series(np.random.randn(len(rng)), rng)\n",
        "ts_utc = ts.tz_localize(\"UTC\")\n",
        "print(ts_utc)\n",
        "print(ts_utc.tz_convert(\"US/Eastern\"))"
      ]
    },
    {
      "cell_type": "markdown",
      "metadata": {
        "id": "NkPd0lkGF3gz"
      },
      "source": [
        "## Категориальные данные\n",
        "\n",
        "**Работа с категориями:**"
      ]
    },
    {
      "cell_type": "code",
      "execution_count": null,
      "metadata": {
        "id": "Xfe2SEf8F3gz"
      },
      "outputs": [],
      "source": [
        "df = pd.DataFrame({\"id\": [1, 2, 3, 4, 5, 6], \"raw_grade\": [\"a\", \"b\", \"b\", \"a\", \"a\", \"e\"]})\n",
        "df[\"grade\"] = df[\"raw_grade\"].astype(\"category\")\n",
        "new_categories = [\"very good\", \"good\", \"very bad\"]\n",
        "df[\"grade\"] = df[\"grade\"].cat.rename_categories(new_categories)\n",
        "\n",
        "df[\"grade\"] = df[\"grade\"].cat.set_categories(\n",
        "    [\"very bad\", \"bad\", \"medium\", \"good\", \"very good\"]\n",
        ")\n",
        "print(df[\"grade\"])\n",
        "print(df.sort_values(by=\"grade\"))\n",
        "print(df.groupby(\"grade\", observed=False).size())"
      ]
    },
    {
      "cell_type": "markdown",
      "metadata": {
        "id": "jotINdilF3gz"
      },
      "source": [
        "## Визуализация\n",
        "\n",
        "**Графики:**"
      ]
    },
    {
      "cell_type": "code",
      "execution_count": null,
      "metadata": {
        "id": "u92nqhfAF3gz"
      },
      "outputs": [],
      "source": [
        "import matplotlib.pyplot as plt\n",
        "\n",
        "ts = pd.Series(np.random.randn(1000), index=pd.date_range(\"1/1/2000\", periods=1000))\n",
        "ts = ts.cumsum()\n",
        "ts.plot();\n",
        "\n",
        "df = pd.DataFrame(np.random.randn(1000, 4), index=ts.index, columns=[\"A\", \"B\", \"C\", \"D\"])\n",
        "df = df.cumsum()\n",
        "df.plot();\n",
        "plt.legend(loc='best')\n",
        "plt.show()"
      ]
    },
    {
      "cell_type": "markdown",
      "metadata": {
        "id": "kjKoXcJTF3gz"
      },
      "source": [
        "## Импорт и экспорт данных\n",
        "\n",
        "**CSV:**"
      ]
    },
    {
      "cell_type": "code",
      "execution_count": null,
      "metadata": {
        "id": "gPXGl71cF3gz"
      },
      "outputs": [],
      "source": [
        "df = pd.DataFrame(np.random.randint(0, 5, (10, 5)))\n",
        "df.to_csv(\"foo.csv\")\n",
        "pd.read_csv(\"foo.csv\")"
      ]
    },
    {
      "cell_type": "markdown",
      "metadata": {
        "id": "WWaJfYHSF3g0"
      },
      "source": [
        "**Parquet:**"
      ]
    },
    {
      "cell_type": "code",
      "execution_count": null,
      "metadata": {
        "id": "W38zS1esF3g0"
      },
      "outputs": [],
      "source": [
        "df.to_parquet(\"foo.parquet\")\n",
        "pd.read_parquet(\"foo.parquet\")"
      ]
    },
    {
      "cell_type": "markdown",
      "metadata": {
        "id": "CR67QUpqF3g0"
      },
      "source": [
        "**Excel:**"
      ]
    },
    {
      "cell_type": "code",
      "execution_count": null,
      "metadata": {
        "id": "a9bca6zZF3g0"
      },
      "outputs": [],
      "source": [
        "df.to_excel(\"foo.xlsx\", sheet_name=\"Sheet1\")\n",
        "pd.read_excel(\"foo.xlsx\", \"Sheet1\", index_col=None, na_values=[\"NA\"])"
      ]
    },
    {
      "cell_type": "markdown",
      "metadata": {
        "id": "wMo4BTFmF3g0"
      },
      "source": [
        "## Подводные камни\n",
        "\n",
        "**Важное предупреждение**: Самая частая ошибка новичков!\n",
        "\n",
        "**Проблема неоднозначности**: Series нельзя использовать в условии if напрямую, потому что в нем много значений. Python не знает, какое именно проверять.\n",
        "\n",
        "**Решения**:\n",
        "- `.any()` — True если хотя бы одно значение True\n",
        "- `.all()` — True если все значения True  \n",
        "- `.empty` — True если Series пустой\n",
        "- `.bool()` — для Series из одного элемента"
      ]
    },
    {
      "cell_type": "code",
      "execution_count": null,
      "metadata": {
        "id": "h32kiV7tF3g0"
      },
      "outputs": [],
      "source": [
        "if pd.Series([False, True, False]):\n",
        "    print(\"I was true\")\n",
        "# ValueError: The truth value of a Series is ambiguous.\n",
        "# Используйте: .empty, .bool(), .item(), .any() или .all()"
      ]
    },
    {
      "cell_type": "markdown",
      "metadata": {
        "id": "f1-wfCviF3g0"
      },
      "source": [
        "---\n",
        "\n",
        "> **Полная документация и дополнительные примеры доступны на официальном сайте библиотеки pandas[1].**\n",
        "\n",
        "[1] https://pandas.pydata.org/docs/user_guide/10min.html"
      ]
    }
  ],
  "metadata": {
    "kernelspec": {
      "display_name": "Python 3",
      "language": "python",
      "name": "python3"
    },
    "language_info": {
      "codemirror_mode": {
        "name": "ipython",
        "version": 3
      },
      "file_extension": ".py",
      "mimetype": "text/x-python",
      "name": "python",
      "nbconvert_exporter": "python",
      "pygments_lexer": "ipython3",
      "version": "3.8.5"
    },
    "colab": {
      "provenance": [],
      "include_colab_link": true
    }
  },
  "nbformat": 4,
  "nbformat_minor": 0
}