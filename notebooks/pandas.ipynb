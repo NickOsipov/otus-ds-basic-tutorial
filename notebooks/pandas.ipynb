{
  "cells": [
    {
      "cell_type": "markdown",
      "metadata": {
        "id": "fp5x2kTKF3gd"
      },
      "source": [
        "# Pandas\n",
        "\n",
        "Краткий интерактивный ноутбук для быстрого освоения библиотеки **pandas** — на русском языке. Каждый раздел содержит пример кода и краткое пояснение[1]."
      ]
    },
    {
      "cell_type": "markdown",
      "metadata": {
        "id": "dQw_N7qEF3gg"
      },
      "source": [
        "## Импорт необходимых библиотек\n",
        "\n",
        "**Совет преподавателя**: В мире анализа данных эти две библиотеки — ваши верные спутники:\n",
        "- **NumPy** — математический фундамент для работы с массивами и матрицами\n",
        "- **Pandas** — \"швейцарский нож\" для обработки табличных данных (как Excel, но мощнее!)\n",
        "\n",
        "**Конвенция**: Всегда импортируйте pandas как `pd`, а numpy как `np` — это стандарт, который используют все специалисты"
      ]
    },
    {
      "cell_type": "code",
      "execution_count": 1,
      "metadata": {
        "id": "qmc6BP0OF3gh"
      },
      "outputs": [],
      "source": [
        "import numpy as np\n",
        "import pandas as pd"
      ]
    },
    {
      "cell_type": "markdown",
      "metadata": {
        "id": "IKIg-22zF3gi"
      },
      "source": [
        "## Основные структуры данных pandas\n",
        "\n",
        "**Аналогия для новичков**: Если представить данные как здание, то:\n",
        "- **Series** — это отдельная колонна здания. Одномерная структура с индексами, как список с подписанными элементами\n",
        "- **DataFrame** — это вся каркасная конструкция здания. Двумерная таблица, где Series объединены в единую структуру\n",
        "\n",
        "**Практическое понимание**:\n",
        "- Series = одна колонка в Excel с именами строк\n",
        "- DataFrame = целый лист Excel с именованными колонками и строками\n",
        "\n",
        "**Почему это важно**: 80% работы Data Scientist — это манипуляции с DataFrame'ами"
      ]
    },
    {
      "cell_type": "markdown",
      "metadata": {
        "id": "58fBk-IFF3gj"
      },
      "source": [
        "## Создание объектов\n",
        "\n",
        "**Урок первый**: Есть несколько способов создать данные в pandas. Начнем с самого простого.\n",
        "\n",
        "**Series из списка:**\n",
        "\n",
        "**Объяснение**: Series — это как улучшенный список Python. Обратите внимание, что pandas автоматически добавляет индексы (0, 1, 2...) и может работать с NaN (не число)."
      ]
    },
    {
      "cell_type": "code",
      "execution_count": 2,
      "metadata": {
        "id": "uZEUqc7jF3gj"
      },
      "outputs": [
        {
          "name": "stdout",
          "output_type": "stream",
          "text": [
            "0    1.0\n",
            "1    3.0\n",
            "2    5.0\n",
            "3    NaN\n",
            "4    6.0\n",
            "5    8.0\n",
            "dtype: float64\n"
          ]
        }
      ],
      "source": [
        "s = pd.Series([1, 3, 5, np.nan, 6, 8])\n",
        "print(s)"
      ]
    },
    {
      "cell_type": "markdown",
      "metadata": {
        "id": "u3WhDxvDF3gj"
      },
      "source": [
        "**DataFrame из numpy-матрицы с датами:**\n",
        "\n",
        "**Практический совет**: Это классический способ создания тестовых данных для экспериментов.\n",
        "- `pd.date_range()` создает последовательность дат\n",
        "- `np.random.randn()` генерирует случайные числа по нормальному распределению\n",
        "- Параметр `columns=list(\"ABCD\")` создает колонки A, B, C, D"
      ]
    },
    {
      "cell_type": "code",
      "execution_count": 3,
      "metadata": {
        "id": "9ornfHfYF3gk"
      },
      "outputs": [
        {
          "name": "stdout",
          "output_type": "stream",
          "text": [
            "                   A         B         C         D\n",
            "2013-01-01 -0.761475  1.461200  0.126607  0.156436\n",
            "2013-01-02  1.084657 -1.600014  0.468590  0.429208\n",
            "2013-01-03  0.425020  0.672193 -1.472618  1.861473\n",
            "2013-01-04  0.711198  1.435334  2.284463  0.669789\n",
            "2013-01-05  1.338088  1.281405 -0.633701  0.744176\n",
            "2013-01-06 -1.107815  0.176749  0.581423 -0.219828\n"
          ]
        }
      ],
      "source": [
        "dates = pd.date_range(\"20130101\", periods=6)\n",
        "df = pd.DataFrame(np.random.randn(6, 4), index=dates, columns=list(\"ABCD\"))\n",
        "print(df)"
      ]
    },
    {
      "cell_type": "markdown",
      "metadata": {
        "id": "scLwcPGYF3gk"
      },
      "source": [
        "**DataFrame из словаря:**\n",
        "\n",
        "**Важно понимать**: Этот пример показывает гибкость pandas — можете смешивать разные типы данных:\n",
        "- Числа с плавающей точкой (float)\n",
        "- Временные метки (Timestamp)\n",
        "- Категориальные данные (Categorical)\n",
        "- Массивы numpy\n",
        "- Просто строки\n",
        "\n",
        "**Обратите внимание на `df2.dtypes`** — это покажет, какие типы данных pandas автоматически определил для каждой колонки."
      ]
    },
    {
      "cell_type": "code",
      "execution_count": 4,
      "metadata": {
        "id": "rwTKZpcIF3gl"
      },
      "outputs": [
        {
          "name": "stdout",
          "output_type": "stream",
          "text": [
            "     A          B    C  D      E    F\n",
            "0  1.0 2013-01-02  1.0  3   test  foo\n",
            "1  1.0 2013-01-02  1.0  3  train  foo\n",
            "2  1.0 2013-01-02  1.0  3   test  foo\n",
            "3  1.0 2013-01-02  1.0  3  train  foo\n",
            "A          float64\n",
            "B    datetime64[s]\n",
            "C          float32\n",
            "D            int32\n",
            "E         category\n",
            "F           object\n",
            "dtype: object\n"
          ]
        }
      ],
      "source": [
        "df2 = pd.DataFrame({\n",
        "    \"A\": 1.0,\n",
        "    \"B\": pd.Timestamp(\"20130102\"),\n",
        "    \"C\": pd.Series(1, index=list(range(4)), dtype=\"float32\"),\n",
        "    \"D\": np.array([3] * 4, dtype=\"int32\"),\n",
        "    \"E\": pd.Categorical([\"test\", \"train\", \"test\", \"train\"]),\n",
        "    \"F\": \"foo\"\n",
        "})\n",
        "print(df2)\n",
        "print(df2.dtypes)"
      ]
    },
    {
      "cell_type": "markdown",
      "metadata": {
        "id": "YcTvP9rjF3gl"
      },
      "source": [
        "## Просмотр данных\n",
        "\n",
        "**Урок второй**: Первое, что делает любой аналитик после загрузки данных — это \"разведка\". Вот основные команды разведчика:\n",
        "\n",
        "**Первые строки:**\n",
        "\n",
        "**Зачем это нужно**: `head()` показывает первые 5 строк (по умолчанию). Это как \"предварительный просмотр\" ваших данных. Помогает понять структуру и типы данных."
      ]
    },
    {
      "cell_type": "code",
      "execution_count": 5,
      "metadata": {
        "id": "sofZWyCFF3gl"
      },
      "outputs": [
        {
          "name": "stdout",
          "output_type": "stream",
          "text": [
            "                   A         B         C         D\n",
            "2013-01-01 -0.761475  1.461200  0.126607  0.156436\n",
            "2013-01-02  1.084657 -1.600014  0.468590  0.429208\n",
            "2013-01-03  0.425020  0.672193 -1.472618  1.861473\n",
            "2013-01-04  0.711198  1.435334  2.284463  0.669789\n",
            "2013-01-05  1.338088  1.281405 -0.633701  0.744176\n"
          ]
        }
      ],
      "source": [
        "print(df.head())"
      ]
    },
    {
      "cell_type": "markdown",
      "metadata": {
        "id": "R6B4V2neF3gm"
      },
      "source": [
        "**Последние строки:**\n",
        "\n",
        "**Практический совет**: `tail(3)` показывает последние 3 строки. Особенно полезно для проверки, что данные загрузились полностью и нет обрезки в конце файла."
      ]
    },
    {
      "cell_type": "code",
      "execution_count": 6,
      "metadata": {
        "id": "E1Z_0uvXF3gm"
      },
      "outputs": [
        {
          "name": "stdout",
          "output_type": "stream",
          "text": [
            "                   A         B         C         D\n",
            "2013-01-04  0.711198  1.435334  2.284463  0.669789\n",
            "2013-01-05  1.338088  1.281405 -0.633701  0.744176\n",
            "2013-01-06 -1.107815  0.176749  0.581423 -0.219828\n"
          ]
        }
      ],
      "source": [
        "print(df.tail(3))"
      ]
    },
    {
      "cell_type": "markdown",
      "metadata": {
        "id": "J1gznjj7F3gm"
      },
      "source": [
        "**Индексы и столбцы:**\n",
        "\n",
        "**Понимание архитектуры**:\n",
        "- `df.index` — показывает метки строк (в нашем случае — даты)\n",
        "- `df.columns` — показывает названия столбцов\n",
        "- Это основа для навигации по данным"
      ]
    },
    {
      "cell_type": "code",
      "execution_count": 7,
      "metadata": {
        "id": "ZE9wkPehF3gm"
      },
      "outputs": [
        {
          "name": "stdout",
          "output_type": "stream",
          "text": [
            "DatetimeIndex(['2013-01-01', '2013-01-02', '2013-01-03', '2013-01-04',\n",
            "               '2013-01-05', '2013-01-06'],\n",
            "              dtype='datetime64[ns]', freq='D')\n",
            "Index(['A', 'B', 'C', 'D'], dtype='object')\n"
          ]
        }
      ],
      "source": [
        "print(df.index)\n",
        "print(df.columns)"
      ]
    },
    {
      "cell_type": "markdown",
      "metadata": {
        "id": "yDt7JocQF3gm"
      },
      "source": [
        "**Массив numpy данных:**\n",
        "\n",
        "**Под капотом**: `to_numpy()` показывает сырые данные без индексов и названий колонок. Иногда нужно для передачи в алгоритмы машинного обучения, которые работают с numpy массивами."
      ]
    },
    {
      "cell_type": "code",
      "execution_count": 8,
      "metadata": {
        "id": "Tr9-HZJMF3gm"
      },
      "outputs": [
        {
          "name": "stdout",
          "output_type": "stream",
          "text": [
            "[[-0.76147495  1.46120003  0.12660672  0.15643647]\n",
            " [ 1.08465732 -1.60001444  0.46859046  0.42920829]\n",
            " [ 0.42501998  0.67219328 -1.4726181   1.86147335]\n",
            " [ 0.71119804  1.43533378  2.28446263  0.66978915]\n",
            " [ 1.33808752  1.28140528 -0.63370089  0.74417612]\n",
            " [-1.10781479  0.17674903  0.5814227  -0.21982783]]\n",
            "[[1.0 Timestamp('2013-01-02 00:00:00') 1.0 3 'test' 'foo']\n",
            " [1.0 Timestamp('2013-01-02 00:00:00') 1.0 3 'train' 'foo']\n",
            " [1.0 Timestamp('2013-01-02 00:00:00') 1.0 3 'test' 'foo']\n",
            " [1.0 Timestamp('2013-01-02 00:00:00') 1.0 3 'train' 'foo']]\n"
          ]
        }
      ],
      "source": [
        "print(df.to_numpy())\n",
        "print(df2.to_numpy())"
      ]
    },
    {
      "cell_type": "markdown",
      "metadata": {
        "id": "X-gHGdliF3gn"
      },
      "source": [
        "## Быстрые статистики\n",
        "\n",
        "**Урок третий**: Разведочный анализ данных начинается с базовой статистики.\n",
        "\n",
        "**Краткое описание:**\n",
        "\n",
        "**Золотая команда**: `describe()` — ваш лучший друг! Показывает count (количество), mean (среднее), std (стандартное отклонение), min/max и квартили. Это первое, что нужно запустить на новых данных."
      ]
    },
    {
      "cell_type": "code",
      "execution_count": 9,
      "metadata": {
        "id": "27rhjhoZF3gn"
      },
      "outputs": [
        {
          "name": "stdout",
          "output_type": "stream",
          "text": [
            "              A         B         C         D\n",
            "count  6.000000  6.000000  6.000000  6.000000\n",
            "mean   0.281612  0.571144  0.225794  0.606876\n",
            "std    0.998466  1.176706  1.269387  0.709186\n",
            "min   -1.107815 -1.600014 -1.472618 -0.219828\n",
            "25%   -0.464851  0.300610 -0.443624  0.224629\n",
            "50%    0.568109  0.976799  0.297599  0.549499\n",
            "75%    0.991293  1.396852  0.553215  0.725579\n",
            "max    1.338088  1.461200  2.284463  1.861473\n"
          ]
        }
      ],
      "source": [
        "print(df.describe())"
      ]
    },
    {
      "cell_type": "markdown",
      "metadata": {
        "id": "6IritdMWF3gn"
      },
      "source": [
        "**Транспонирование:**"
      ]
    },
    {
      "cell_type": "code",
      "execution_count": 10,
      "metadata": {
        "id": "r0x8CBOsF3gn"
      },
      "outputs": [
        {
          "name": "stdout",
          "output_type": "stream",
          "text": [
            "   2013-01-01  2013-01-02  2013-01-03  2013-01-04  2013-01-05  2013-01-06\n",
            "A   -0.761475    1.084657    0.425020    0.711198    1.338088   -1.107815\n",
            "B    1.461200   -1.600014    0.672193    1.435334    1.281405    0.176749\n",
            "C    0.126607    0.468590   -1.472618    2.284463   -0.633701    0.581423\n",
            "D    0.156436    0.429208    1.861473    0.669789    0.744176   -0.219828\n"
          ]
        }
      ],
      "source": [
        "print(df.T)"
      ]
    },
    {
      "cell_type": "markdown",
      "metadata": {
        "id": "webAhWoHF3gn"
      },
      "source": [
        "**Сортировка по оси или значениям:**"
      ]
    },
    {
      "cell_type": "code",
      "execution_count": 11,
      "metadata": {
        "id": "xsQqSqo4F3gn"
      },
      "outputs": [
        {
          "name": "stdout",
          "output_type": "stream",
          "text": [
            "                   D         C         B         A\n",
            "2013-01-01  0.156436  0.126607  1.461200 -0.761475\n",
            "2013-01-02  0.429208  0.468590 -1.600014  1.084657\n",
            "2013-01-03  1.861473 -1.472618  0.672193  0.425020\n",
            "2013-01-04  0.669789  2.284463  1.435334  0.711198\n",
            "2013-01-05  0.744176 -0.633701  1.281405  1.338088\n",
            "2013-01-06 -0.219828  0.581423  0.176749 -1.107815\n",
            "                   A         B         C         D\n",
            "2013-01-02  1.084657 -1.600014  0.468590  0.429208\n",
            "2013-01-06 -1.107815  0.176749  0.581423 -0.219828\n",
            "2013-01-03  0.425020  0.672193 -1.472618  1.861473\n",
            "2013-01-05  1.338088  1.281405 -0.633701  0.744176\n",
            "2013-01-04  0.711198  1.435334  2.284463  0.669789\n",
            "2013-01-01 -0.761475  1.461200  0.126607  0.156436\n"
          ]
        }
      ],
      "source": [
        "print(df.sort_index(axis=1, ascending=False))\n",
        "print(df.sort_values(by=\"B\"))"
      ]
    },
    {
      "cell_type": "markdown",
      "metadata": {
        "id": "Zamj2t5FF3gn"
      },
      "source": [
        "## Выбор данных\n",
        "\n",
        "**Урок четвертый**: Самый важный навык — уметь \"нарезать\" данные нужными кусочками.\n",
        "\n",
        "**По ключу (столбец):**\n",
        "\n",
        "**Основы индексации**: `df[\"A\"]` — выбираете колонку A. Получаете Series. Это как выбрать одну колонку в Excel."
      ]
    },
    {
      "cell_type": "code",
      "execution_count": 12,
      "metadata": {
        "id": "keVy_VDGF3go"
      },
      "outputs": [
        {
          "name": "stdout",
          "output_type": "stream",
          "text": [
            "2013-01-01   -0.761475\n",
            "2013-01-02    1.084657\n",
            "2013-01-03    0.425020\n",
            "2013-01-04    0.711198\n",
            "2013-01-05    1.338088\n",
            "2013-01-06   -1.107815\n",
            "Freq: D, Name: A, dtype: float64\n"
          ]
        }
      ],
      "source": [
        "print(df[\"A\"])"
      ]
    },
    {
      "cell_type": "markdown",
      "metadata": {
        "id": "JpF7FrFJF3go"
      },
      "source": [
        "**По срезу строк:**\n",
        "\n",
        "**Понимание срезов**:\n",
        "- `df[0:3]` — строки по позициям (первые 3)\n",
        "- `df[\"20130102\":\"20130104\"]` — строки по значениям индекса (по датам)\n",
        "- Pandas умный: понимает, что вы хотите выбрать по датам!"
      ]
    },
    {
      "cell_type": "code",
      "execution_count": 13,
      "metadata": {
        "id": "C5-ZPs4OF3go"
      },
      "outputs": [
        {
          "name": "stdout",
          "output_type": "stream",
          "text": [
            "                   A         B         C         D\n",
            "2013-01-01 -0.761475  1.461200  0.126607  0.156436\n",
            "2013-01-02  1.084657 -1.600014  0.468590  0.429208\n",
            "2013-01-03  0.425020  0.672193 -1.472618  1.861473\n",
            "                   A         B         C         D\n",
            "2013-01-02  1.084657 -1.600014  0.468590  0.429208\n",
            "2013-01-03  0.425020  0.672193 -1.472618  1.861473\n",
            "2013-01-04  0.711198  1.435334  2.284463  0.669789\n"
          ]
        }
      ],
      "source": [
        "print(df[0:3])\n",
        "print(df[\"20130102\":\"20130104\"])"
      ]
    },
    {
      "cell_type": "markdown",
      "metadata": {
        "id": "zNWv5xJXF3go"
      },
      "source": [
        "**По метке с помощью loc:**\n",
        "\n",
        "**Мастер-класс loc**:\n",
        "- `loc` = location (местоположение)\n",
        "- `df.loc[строки, колонки]` — явное указание что и где выбирать\n",
        "- `:` означает \"все\" (как в numpy)\n",
        "- `loc` работает с МЕТКАМИ (названиями), а не позициями"
      ]
    },
    {
      "cell_type": "code",
      "execution_count": 14,
      "metadata": {
        "id": "_VhehH5NF3go"
      },
      "outputs": [
        {
          "name": "stdout",
          "output_type": "stream",
          "text": [
            "A   -0.761475\n",
            "B    1.461200\n",
            "C    0.126607\n",
            "D    0.156436\n",
            "Name: 2013-01-01 00:00:00, dtype: float64\n",
            "                   A         B\n",
            "2013-01-01 -0.761475  1.461200\n",
            "2013-01-02  1.084657 -1.600014\n",
            "2013-01-03  0.425020  0.672193\n",
            "2013-01-04  0.711198  1.435334\n",
            "2013-01-05  1.338088  1.281405\n",
            "2013-01-06 -1.107815  0.176749\n",
            "                   A         B\n",
            "2013-01-02  1.084657 -1.600014\n",
            "2013-01-03  0.425020  0.672193\n",
            "2013-01-04  0.711198  1.435334\n",
            "-0.7614749456271308\n"
          ]
        }
      ],
      "source": [
        "print(df.loc[dates[0]])\n",
        "print(df.loc[:, [\"A\", \"B\"]])\n",
        "print(df.loc[\"20130102\":\"20130104\", [\"A\", \"B\"]])\n",
        "print(df.loc[dates[0], \"A\"])"
      ]
    },
    {
      "cell_type": "markdown",
      "metadata": {
        "id": "tBenJusaF3go"
      },
      "source": [
        "**По позиции с помощью iloc:**\n",
        "\n",
        "**Мастер-класс iloc**:\n",
        "- `iloc` = integer location (целочисленное местоположение)\n",
        "- `df.iloc[строки, колонки]` — работает только с ЧИСЛОВЫМИ позициями\n",
        "- Как индексы в обычных списках Python: 0, 1, 2...\n",
        "- `iloc[1, 1]` — строка 1, колонка 1 (начиная с 0)"
      ]
    },
    {
      "cell_type": "code",
      "execution_count": 15,
      "metadata": {
        "id": "ZBuNy1x6F3gp"
      },
      "outputs": [
        {
          "name": "stdout",
          "output_type": "stream",
          "text": [
            "A    0.711198\n",
            "B    1.435334\n",
            "C    2.284463\n",
            "D    0.669789\n",
            "Name: 2013-01-04 00:00:00, dtype: float64\n",
            "                   A         B\n",
            "2013-01-04  0.711198  1.435334\n",
            "2013-01-05  1.338088  1.281405\n",
            "                   A         C\n",
            "2013-01-02  1.084657  0.468590\n",
            "2013-01-03  0.425020 -1.472618\n",
            "2013-01-05  1.338088 -0.633701\n",
            "                   A         B         C         D\n",
            "2013-01-02  1.084657 -1.600014  0.468590  0.429208\n",
            "2013-01-03  0.425020  0.672193 -1.472618  1.861473\n",
            "                   B         C\n",
            "2013-01-01  1.461200  0.126607\n",
            "2013-01-02 -1.600014  0.468590\n",
            "2013-01-03  0.672193 -1.472618\n",
            "2013-01-04  1.435334  2.284463\n",
            "2013-01-05  1.281405 -0.633701\n",
            "2013-01-06  0.176749  0.581423\n",
            "-1.6000144424638196\n"
          ]
        }
      ],
      "source": [
        "print(df.iloc[3])\n",
        "print(df.iloc[3:5, 0:2])\n",
        "print(df.iloc[[1, 2, 4], [0, 2]])\n",
        "print(df.iloc[1:3, :])\n",
        "print(df.iloc[:, 1:3])\n",
        "print(df.iloc[1, 1])"
      ]
    },
    {
      "cell_type": "markdown",
      "metadata": {
        "id": "m85q1UeAF3gp"
      },
      "source": [
        "## Булевый индекс\n",
        "\n",
        "**Урок пятый**: Самая мощная фича pandas — фильтрация по условиям!\n",
        "\n",
        "**Фильтрация по условию:**\n",
        "\n",
        "**Магия булевых масок**:\n",
        "- `df[\"A\"] > 0` создает маску True/False для каждой строки\n",
        "- `df[маска]` оставляет только строки где True\n",
        "- Это основа для всех фильтров в анализе данных!"
      ]
    },
    {
      "cell_type": "code",
      "execution_count": 16,
      "metadata": {
        "id": "CGcupHMGF3gp"
      },
      "outputs": [
        {
          "name": "stdout",
          "output_type": "stream",
          "text": [
            "                   A         B         C         D\n",
            "2013-01-02  1.084657 -1.600014  0.468590  0.429208\n",
            "2013-01-03  0.425020  0.672193 -1.472618  1.861473\n",
            "2013-01-04  0.711198  1.435334  2.284463  0.669789\n",
            "2013-01-05  1.338088  1.281405 -0.633701  0.744176\n",
            "                   A         B         C         D\n",
            "2013-01-01       NaN  1.461200  0.126607  0.156436\n",
            "2013-01-02  1.084657       NaN  0.468590  0.429208\n",
            "2013-01-03  0.425020  0.672193       NaN  1.861473\n",
            "2013-01-04  0.711198  1.435334  2.284463  0.669789\n",
            "2013-01-05  1.338088  1.281405       NaN  0.744176\n",
            "2013-01-06       NaN  0.176749  0.581423       NaN\n"
          ]
        }
      ],
      "source": [
        "print(df[df[\"A\"] > 0])\n",
        "print(df[df > 0])"
      ]
    },
    {
      "cell_type": "markdown",
      "metadata": {
        "id": "OwQ0YZ9tF3gp"
      },
      "source": [
        "**Фильтрация по значениям:**\n",
        "\n",
        "**Продвинутая фильтрация**:\n",
        "- `isin([список])` — проверяет, входит ли значение в список\n",
        "- Аналог SQL: `WHERE column IN ('val1', 'val2')`\n",
        "- Очень удобно для категориальных данных"
      ]
    },
    {
      "cell_type": "code",
      "execution_count": 17,
      "metadata": {
        "id": "b1jLB21jF3gp"
      },
      "outputs": [
        {
          "name": "stdout",
          "output_type": "stream",
          "text": [
            "                   A         B         C         D     E\n",
            "2013-01-03  0.425020  0.672193 -1.472618  1.861473   two\n",
            "2013-01-05  1.338088  1.281405 -0.633701  0.744176  four\n"
          ]
        }
      ],
      "source": [
        "df2 = df.copy()\n",
        "df2[\"E\"] = [\"one\", \"one\", \"two\", \"three\", \"four\", \"three\"]\n",
        "print(df2[df2[\"E\"].isin([\"two\", \"four\"])])"
      ]
    },
    {
      "cell_type": "markdown",
      "metadata": {
        "id": "WNH8uSutF3gq"
      },
      "source": [
        "## Изменение данных\n",
        "\n",
        "**Добавление столбца:**"
      ]
    },
    {
      "cell_type": "code",
      "execution_count": 18,
      "metadata": {
        "id": "wTbMPBShF3gq"
      },
      "outputs": [],
      "source": [
        "s1 = pd.Series([1, 2, 3, 4, 5, 6], index=pd.date_range(\"20130102\", periods=6))\n",
        "df[\"F\"] = s1"
      ]
    },
    {
      "cell_type": "markdown",
      "metadata": {
        "id": "fLTkfDNgF3gq"
      },
      "source": [
        "**Изменение значений по метке или позиции:**"
      ]
    },
    {
      "cell_type": "code",
      "execution_count": 19,
      "metadata": {
        "id": "DLbND4UnF3gu"
      },
      "outputs": [
        {
          "name": "stdout",
          "output_type": "stream",
          "text": [
            "                   A         B         C    D    F\n",
            "2013-01-01  0.000000  0.000000  0.126607  5.0  NaN\n",
            "2013-01-02  1.084657 -1.600014  0.468590  5.0  1.0\n",
            "2013-01-03  0.425020  0.672193 -1.472618  5.0  2.0\n",
            "2013-01-04  0.711198  1.435334  2.284463  5.0  3.0\n",
            "2013-01-05  1.338088  1.281405 -0.633701  5.0  4.0\n",
            "2013-01-06 -1.107815  0.176749  0.581423  5.0  5.0\n"
          ]
        }
      ],
      "source": [
        "df.at[dates[0], \"A\"] = 0\n",
        "df.iat[0, 1] = 0\n",
        "df.loc[:, \"D\"] = np.array([5] * len(df))\n",
        "print(df)"
      ]
    },
    {
      "cell_type": "markdown",
      "metadata": {
        "id": "eeTxF5IXF3gu"
      },
      "source": [
        "**where-операция:**"
      ]
    },
    {
      "cell_type": "code",
      "execution_count": 20,
      "metadata": {
        "id": "kqVaARhTF3gu"
      },
      "outputs": [
        {
          "name": "stdout",
          "output_type": "stream",
          "text": [
            "                   A         B         C    D    F\n",
            "2013-01-01  0.000000  0.000000 -0.126607 -5.0  NaN\n",
            "2013-01-02 -1.084657 -1.600014 -0.468590 -5.0 -1.0\n",
            "2013-01-03 -0.425020 -0.672193 -1.472618 -5.0 -2.0\n",
            "2013-01-04 -0.711198 -1.435334 -2.284463 -5.0 -3.0\n",
            "2013-01-05 -1.338088 -1.281405 -0.633701 -5.0 -4.0\n",
            "2013-01-06 -1.107815 -0.176749 -0.581423 -5.0 -5.0\n"
          ]
        }
      ],
      "source": [
        "df2 = df.copy()\n",
        "df2[df2 > 0] = -df2\n",
        "print(df2)"
      ]
    },
    {
      "cell_type": "markdown",
      "metadata": {
        "id": "BftBqRZpF3gv"
      },
      "source": [
        "## Работа с пропущенными данными\n",
        "\n",
        "**Проверка, заполнение и удаление:**"
      ]
    },
    {
      "cell_type": "code",
      "execution_count": 21,
      "metadata": {
        "id": "3HCmCczoF3gv"
      },
      "outputs": [
        {
          "name": "stdout",
          "output_type": "stream",
          "text": [
            "                   A         B        C    D    F    E\n",
            "2013-01-02  1.084657 -1.600014  0.46859  5.0  1.0  1.0\n",
            "                   A         B         C    D    F    E\n",
            "2013-01-01  0.000000  0.000000  0.126607  5.0  5.0  1.0\n",
            "2013-01-02  1.084657 -1.600014  0.468590  5.0  1.0  1.0\n",
            "2013-01-03  0.425020  0.672193 -1.472618  5.0  2.0  5.0\n",
            "2013-01-04  0.711198  1.435334  2.284463  5.0  3.0  5.0\n",
            "                A      B      C      D      F      E\n",
            "2013-01-01  False  False  False  False   True  False\n",
            "2013-01-02  False  False  False  False  False  False\n",
            "2013-01-03  False  False  False  False  False   True\n",
            "2013-01-04  False  False  False  False  False   True\n"
          ]
        }
      ],
      "source": [
        "df1 = df.reindex(index=dates[0:4], columns=list(df.columns) + [\"E\"])\n",
        "df1.loc[dates[0]:dates[1], \"E\"] = 1\n",
        "print(df1.dropna(how=\"any\"))\n",
        "print(df1.fillna(value=5))\n",
        "print(pd.isna(df1))"
      ]
    },
    {
      "cell_type": "markdown",
      "metadata": {
        "id": "apZfJoXvF3gv"
      },
      "source": [
        "## Операции\n",
        "\n",
        "**Урок шестой**: Pandas — это Excel на стероидах. Любые вычисления по строкам и колонкам.\n",
        "\n",
        "**Статистика по столбцам и строкам:**\n",
        "\n",
        "**Понимание осей**:\n",
        "- `axis=0` или без параметра — операция по колонкам (результат для каждой колонки)\n",
        "- `axis=1` — операция по строкам (результат для каждой строки)\n",
        "- Запомните: axis=0 \"схлопывает\" строки, axis=1 \"схлопывает\" колонки"
      ]
    },
    {
      "cell_type": "code",
      "execution_count": 22,
      "metadata": {
        "id": "qUbxsqAtF3gv"
      },
      "outputs": [
        {
          "name": "stdout",
          "output_type": "stream",
          "text": [
            "A    0.408525\n",
            "B    0.327611\n",
            "C    0.225794\n",
            "D    5.000000\n",
            "F    3.000000\n",
            "dtype: float64\n",
            "2013-01-01    1.281652\n",
            "2013-01-02    1.190647\n",
            "2013-01-03    1.324919\n",
            "2013-01-04    2.486199\n",
            "2013-01-05    2.197158\n",
            "2013-01-06    1.930071\n",
            "Freq: D, dtype: float64\n"
          ]
        }
      ],
      "source": [
        "print(df.mean())\n",
        "print(df.mean(axis=1))"
      ]
    },
    {
      "cell_type": "markdown",
      "metadata": {
        "id": "hFYUW_PCF3gv"
      },
      "source": [
        "**Операции с выравниванием по индексам:**"
      ]
    },
    {
      "cell_type": "code",
      "execution_count": 23,
      "metadata": {
        "id": "-fvvFJN3F3gv"
      },
      "outputs": [
        {
          "name": "stdout",
          "output_type": "stream",
          "text": [
            "                   A         B         C    D    F\n",
            "2013-01-01       NaN       NaN       NaN  NaN  NaN\n",
            "2013-01-02       NaN       NaN       NaN  NaN  NaN\n",
            "2013-01-03 -0.574980 -0.327807 -2.472618  4.0  1.0\n",
            "2013-01-04 -2.288802 -1.564666 -0.715537  2.0  0.0\n",
            "2013-01-05 -3.661912 -3.718595 -5.633701  0.0 -1.0\n",
            "2013-01-06       NaN       NaN       NaN  NaN  NaN\n"
          ]
        }
      ],
      "source": [
        "s = pd.Series([1, 3, 5, np.nan, 6, 8], index=dates).shift(2)\n",
        "print(df.sub(s, axis=\"index\"))"
      ]
    },
    {
      "cell_type": "markdown",
      "metadata": {
        "id": "5CkMDdNbF3gv"
      },
      "source": [
        "**Собственные функции и трансформации:**"
      ]
    },
    {
      "cell_type": "code",
      "execution_count": 24,
      "metadata": {
        "id": "3wP09RK4F3gw"
      },
      "outputs": [
        {
          "name": "stdout",
          "output_type": "stream",
          "text": [
            "A     2.287738\n",
            "B     1.834622\n",
            "C     1.264446\n",
            "D    28.000000\n",
            "F    16.800000\n",
            "dtype: float64\n",
            "                     A           B           C      D      F\n",
            "2013-01-01    0.000000    0.000000   12.812600  506.0    NaN\n",
            "2013-01-02  109.767321 -161.921462   47.421355  506.0  101.2\n",
            "2013-01-03   43.012022   68.025960 -149.028952  506.0  202.4\n",
            "2013-01-04   71.973242  145.255778  231.187618  506.0  303.6\n",
            "2013-01-05  135.414457  129.678215  -64.130530  506.0  404.8\n",
            "2013-01-06 -112.110857   17.887002   58.839977  506.0  506.0\n"
          ]
        }
      ],
      "source": [
        "print(df.agg(lambda x: np.mean(x) * 5.6))\n",
        "print(df.transform(lambda x: x * 101.2))"
      ]
    },
    {
      "cell_type": "markdown",
      "metadata": {
        "id": "g_zwi4bjF3gw"
      },
      "source": [
        "**Value Counts и строковые методы:**"
      ]
    },
    {
      "cell_type": "code",
      "execution_count": 25,
      "metadata": {
        "id": "__KLnrzCF3gw"
      },
      "outputs": [
        {
          "name": "stdout",
          "output_type": "stream",
          "text": [
            "1    3\n",
            "6    2\n",
            "4    2\n",
            "2    1\n",
            "0    1\n",
            "5    1\n",
            "Name: count, dtype: int64\n",
            "0       a\n",
            "1       b\n",
            "2       c\n",
            "3    aaba\n",
            "4    baca\n",
            "5     NaN\n",
            "6    caba\n",
            "7     dog\n",
            "8     cat\n",
            "dtype: object\n"
          ]
        }
      ],
      "source": [
        "s = pd.Series(np.random.randint(0, 7, size=10))\n",
        "print(s.value_counts())\n",
        "\n",
        "s = pd.Series([\"A\", \"B\", \"C\", \"Aaba\", \"Baca\", np.nan, \"CABA\", \"dog\", \"cat\"])\n",
        "print(s.str.lower())"
      ]
    },
    {
      "cell_type": "markdown",
      "metadata": {
        "id": "OrOyb2QEF3gw"
      },
      "source": [
        "## Объединение данных\n",
        "\n",
        "**Конкатенация:**"
      ]
    },
    {
      "cell_type": "code",
      "execution_count": 26,
      "metadata": {
        "id": "IeP-ox9zF3gw"
      },
      "outputs": [
        {
          "name": "stdout",
          "output_type": "stream",
          "text": [
            "          0         1         2         3\n",
            "0  1.311338  0.243004 -1.031660 -0.798402\n",
            "1 -0.569870  0.751449  0.777247 -1.360115\n",
            "2  0.342714  1.595752 -1.503746 -0.738893\n",
            "3 -0.396648 -0.455247  0.458351  0.471001\n",
            "4 -1.824050  0.431234  0.759939 -0.498189\n",
            "5  0.891563 -0.807096  1.356732  0.573076\n",
            "6  2.157635 -0.798229 -0.330901  0.683402\n",
            "7  1.254816 -0.443592 -0.779954 -0.171157\n",
            "8  2.189870  0.663317 -1.175373 -1.041081\n",
            "9 -0.280520  0.803995  0.154566 -1.045682\n"
          ]
        }
      ],
      "source": [
        "df = pd.DataFrame(np.random.randn(10, 4))\n",
        "pieces = [df[:3], df[3:7], df[7:]]\n",
        "print(pd.concat(pieces))"
      ]
    },
    {
      "cell_type": "markdown",
      "metadata": {
        "id": "xf304pwyF3gx"
      },
      "source": [
        "**SQL-подобное объединение (merge):**"
      ]
    },
    {
      "cell_type": "code",
      "execution_count": 27,
      "metadata": {
        "id": "5NxYuI-AF3gx"
      },
      "outputs": [
        {
          "name": "stdout",
          "output_type": "stream",
          "text": [
            "   key  lval  rval\n",
            "0  foo     1     4\n",
            "1  foo     1     5\n",
            "2  foo     2     4\n",
            "3  foo     2     5\n"
          ]
        }
      ],
      "source": [
        "left = pd.DataFrame({\"key\": [\"foo\", \"foo\"], \"lval\": [1, 2]})\n",
        "right = pd.DataFrame({\"key\": [\"foo\", \"foo\"], \"rval\": [4, 5]})\n",
        "print(pd.merge(left, right, on=\"key\"))"
      ]
    },
    {
      "cell_type": "markdown",
      "metadata": {
        "id": "2vSOYsu6F3gx"
      },
      "source": [
        "## Группировка\n",
        "\n",
        "**Урок седьмой**: Группировка — это SQL в pandas. Самая мощная техника для анализа.\n",
        "\n",
        "**Группировка и агрегация:**\n",
        "\n",
        "**Концепция группировки**:\n",
        "1. **Split** (разделить) — разбиваем данные по группам\n",
        "2. **Apply** (применить) — применяем функцию к каждой группе  \n",
        "3. **Combine** (объединить) — собираем результаты обратно\n",
        "\n",
        "**Практическое применение**:\n",
        "- `groupby(\"A\")` — группируем по колонке A\n",
        "- `[[\"C\", \"D\"]]` — выбираем колонки для агрегации\n",
        "- `.sum()` — применяем функцию суммирования к каждой группе"
      ]
    },
    {
      "cell_type": "code",
      "execution_count": 28,
      "metadata": {
        "id": "gmcq5FcZF3gx"
      },
      "outputs": [
        {
          "name": "stdout",
          "output_type": "stream",
          "text": [
            "            C         D\n",
            "A                      \n",
            "bar  2.641724  0.372469\n",
            "foo  3.794058  0.308669\n",
            "                  C         D\n",
            "A   B                        \n",
            "bar one    1.345407 -0.903568\n",
            "    three  0.595697  0.030960\n",
            "    two    0.700620  1.245077\n",
            "foo one   -1.074634  0.676989\n",
            "    three  0.892592 -0.444823\n",
            "    two    3.976099  0.076503\n"
          ]
        }
      ],
      "source": [
        "df = pd.DataFrame({\n",
        "    \"A\": [\"foo\", \"bar\", \"foo\", \"bar\", \"foo\", \"bar\", \"foo\", \"foo\"],\n",
        "    \"B\": [\"one\", \"one\", \"two\", \"three\", \"two\", \"two\", \"one\", \"three\"],\n",
        "    \"C\": np.random.randn(8),\n",
        "    \"D\": np.random.randn(8)\n",
        "})\n",
        "print(df.groupby(\"A\")[[\"C\", \"D\"]].sum())\n",
        "print(df.groupby([\"A\", \"B\"]).sum())"
      ]
    },
    {
      "cell_type": "markdown",
      "metadata": {
        "id": "_wRGFyWyF3gx"
      },
      "source": [
        "## Изменение формы данных\n",
        "\n",
        "**Stack/Unstack и сводные таблицы:**"
      ]
    },
    {
      "cell_type": "code",
      "execution_count": 29,
      "metadata": {
        "id": "NlUUvxTNF3gy"
      },
      "outputs": [
        {
          "name": "stdout",
          "output_type": "stream",
          "text": [
            "first  second   \n",
            "bar    one     A   -1.136623\n",
            "               B   -0.788284\n",
            "       two     A    0.403555\n",
            "               B    0.594994\n",
            "baz    one     A   -0.695840\n",
            "               B   -0.074997\n",
            "       two     A    0.397974\n",
            "               B   -0.277549\n",
            "dtype: float64\n",
            "                     A         B\n",
            "first second                    \n",
            "bar   one    -1.136623 -0.788284\n",
            "      two     0.403555  0.594994\n",
            "baz   one    -0.695840 -0.074997\n",
            "      two     0.397974 -0.277549\n",
            "second        one       two\n",
            "first                      \n",
            "bar   A -1.136623  0.403555\n",
            "      B -0.788284  0.594994\n",
            "baz   A -0.695840  0.397974\n",
            "      B -0.074997 -0.277549\n",
            "first          bar       baz\n",
            "second                      \n",
            "one    A -1.136623 -0.695840\n",
            "       B -0.788284 -0.074997\n",
            "two    A  0.403555  0.397974\n",
            "       B  0.594994 -0.277549\n"
          ]
        }
      ],
      "source": [
        "arrays = [\n",
        "    [\"bar\", \"bar\", \"baz\", \"baz\", \"foo\", \"foo\", \"qux\", \"qux\"],\n",
        "    [\"one\", \"two\", \"one\", \"two\", \"one\", \"two\", \"one\", \"two\"],\n",
        "]\n",
        "index = pd.MultiIndex.from_arrays(arrays, names=[\"first\", \"second\"])\n",
        "df = pd.DataFrame(np.random.randn(8, 2), index=index, columns=[\"A\", \"B\"])\n",
        "df2 = df[:4]\n",
        "stacked = df2.stack()\n",
        "print(stacked)\n",
        "print(stacked.unstack())\n",
        "print(stacked.unstack(1))\n",
        "print(stacked.unstack(0))"
      ]
    },
    {
      "cell_type": "code",
      "execution_count": 30,
      "metadata": {
        "id": "kKLDk1fRF3gy"
      },
      "outputs": [
        {
          "name": "stdout",
          "output_type": "stream",
          "text": [
            "C             bar       foo\n",
            "A     B                    \n",
            "one   A -0.077284  0.035294\n",
            "      B  0.910300  0.924849\n",
            "      C -1.147417 -1.840583\n",
            "three A -0.710973       NaN\n",
            "      B       NaN -0.029846\n",
            "      C  1.156285       NaN\n",
            "two   A       NaN -0.676412\n",
            "      B -0.471134       NaN\n",
            "      C       NaN  0.185286\n"
          ]
        }
      ],
      "source": [
        "# Сводная таблица\n",
        "df = pd.DataFrame({\n",
        "    \"A\": [\"one\", \"one\", \"two\", \"three\"] * 3,\n",
        "    \"B\": [\"A\", \"B\", \"C\"] * 4,\n",
        "    \"C\": [\"foo\", \"foo\", \"foo\", \"bar\", \"bar\", \"bar\"] * 2,\n",
        "    \"D\": np.random.randn(12),\n",
        "    \"E\": np.random.randn(12),\n",
        "})\n",
        "print(pd.pivot_table(df, values=\"D\", index=[\"A\", \"B\"], columns=[\"C\"]))"
      ]
    },
    {
      "cell_type": "markdown",
      "metadata": {
        "id": "C_-PlHisF3gy"
      },
      "source": [
        "## Временные ряды\n",
        "\n",
        "**Создание меток, ресемплирование, работа с временными зонами:**"
      ]
    },
    {
      "cell_type": "code",
      "execution_count": 31,
      "metadata": {
        "id": "95-2S_-uF3gy"
      },
      "outputs": [
        {
          "name": "stdout",
          "output_type": "stream",
          "text": [
            "2012-01-01    25482\n",
            "Freq: 5min, dtype: int64\n"
          ]
        },
        {
          "name": "stderr",
          "output_type": "stream",
          "text": [
            "/tmp/ipykernel_112922/1549894112.py:1: FutureWarning: 'S' is deprecated and will be removed in a future version, please use 's' instead.\n",
            "  rng = pd.date_range(\"1/1/2012\", periods=100, freq=\"S\")\n"
          ]
        }
      ],
      "source": [
        "rng = pd.date_range(\"1/1/2012\", periods=100, freq=\"S\")\n",
        "ts = pd.Series(np.random.randint(0, 500, len(rng)), index=rng)\n",
        "print(ts.resample(\"5Min\").sum())"
      ]
    },
    {
      "cell_type": "code",
      "execution_count": 32,
      "metadata": {
        "id": "-pvg_-hwF3gy"
      },
      "outputs": [
        {
          "name": "stdout",
          "output_type": "stream",
          "text": [
            "2012-03-06 00:00:00+00:00   -0.827232\n",
            "2012-03-07 00:00:00+00:00   -1.238103\n",
            "2012-03-08 00:00:00+00:00    0.597960\n",
            "2012-03-09 00:00:00+00:00   -1.816917\n",
            "2012-03-10 00:00:00+00:00    0.236332\n",
            "Freq: D, dtype: float64\n",
            "2012-03-05 19:00:00-05:00   -0.827232\n",
            "2012-03-06 19:00:00-05:00   -1.238103\n",
            "2012-03-07 19:00:00-05:00    0.597960\n",
            "2012-03-08 19:00:00-05:00   -1.816917\n",
            "2012-03-09 19:00:00-05:00    0.236332\n",
            "Freq: D, dtype: float64\n"
          ]
        }
      ],
      "source": [
        "# Временная зона\n",
        "rng = pd.date_range(\"3/6/2012 00:00\", periods=5, freq=\"D\")\n",
        "ts = pd.Series(np.random.randn(len(rng)), rng)\n",
        "ts_utc = ts.tz_localize(\"UTC\")\n",
        "print(ts_utc)\n",
        "print(ts_utc.tz_convert(\"US/Eastern\"))"
      ]
    },
    {
      "cell_type": "markdown",
      "metadata": {
        "id": "NkPd0lkGF3gz"
      },
      "source": [
        "## Категориальные данные\n",
        "\n",
        "**Работа с категориями:**"
      ]
    },
    {
      "cell_type": "code",
      "execution_count": 33,
      "metadata": {
        "id": "Xfe2SEf8F3gz"
      },
      "outputs": [
        {
          "name": "stdout",
          "output_type": "stream",
          "text": [
            "0    very good\n",
            "1         good\n",
            "2         good\n",
            "3    very good\n",
            "4    very good\n",
            "5     very bad\n",
            "Name: grade, dtype: category\n",
            "Categories (5, object): ['very bad', 'bad', 'medium', 'good', 'very good']\n",
            "   id raw_grade      grade\n",
            "5   6         e   very bad\n",
            "1   2         b       good\n",
            "2   3         b       good\n",
            "0   1         a  very good\n",
            "3   4         a  very good\n",
            "4   5         a  very good\n",
            "grade\n",
            "very bad     1\n",
            "bad          0\n",
            "medium       0\n",
            "good         2\n",
            "very good    3\n",
            "dtype: int64\n"
          ]
        }
      ],
      "source": [
        "df = pd.DataFrame({\"id\": [1, 2, 3, 4, 5, 6], \"raw_grade\": [\"a\", \"b\", \"b\", \"a\", \"a\", \"e\"]})\n",
        "df[\"grade\"] = df[\"raw_grade\"].astype(\"category\")\n",
        "new_categories = [\"very good\", \"good\", \"very bad\"]\n",
        "df[\"grade\"] = df[\"grade\"].cat.rename_categories(new_categories)\n",
        "\n",
        "df[\"grade\"] = df[\"grade\"].cat.set_categories(\n",
        "    [\"very bad\", \"bad\", \"medium\", \"good\", \"very good\"]\n",
        ")\n",
        "print(df[\"grade\"])\n",
        "print(df.sort_values(by=\"grade\"))\n",
        "print(df.groupby(\"grade\", observed=False).size())"
      ]
    },
    {
      "cell_type": "markdown",
      "metadata": {
        "id": "kjKoXcJTF3gz"
      },
      "source": [
        "## Импорт и экспорт данных\n",
        "\n",
        "**CSV:**"
      ]
    },
    {
      "cell_type": "code",
      "execution_count": 34,
      "metadata": {
        "id": "gPXGl71cF3gz"
      },
      "outputs": [
        {
          "data": {
            "text/html": [
              "<div>\n",
              "<style scoped>\n",
              "    .dataframe tbody tr th:only-of-type {\n",
              "        vertical-align: middle;\n",
              "    }\n",
              "\n",
              "    .dataframe tbody tr th {\n",
              "        vertical-align: top;\n",
              "    }\n",
              "\n",
              "    .dataframe thead th {\n",
              "        text-align: right;\n",
              "    }\n",
              "</style>\n",
              "<table border=\"1\" class=\"dataframe\">\n",
              "  <thead>\n",
              "    <tr style=\"text-align: right;\">\n",
              "      <th></th>\n",
              "      <th>Unnamed: 0</th>\n",
              "      <th>0</th>\n",
              "      <th>1</th>\n",
              "      <th>2</th>\n",
              "      <th>3</th>\n",
              "      <th>4</th>\n",
              "    </tr>\n",
              "  </thead>\n",
              "  <tbody>\n",
              "    <tr>\n",
              "      <th>0</th>\n",
              "      <td>0</td>\n",
              "      <td>1</td>\n",
              "      <td>3</td>\n",
              "      <td>2</td>\n",
              "      <td>0</td>\n",
              "      <td>4</td>\n",
              "    </tr>\n",
              "    <tr>\n",
              "      <th>1</th>\n",
              "      <td>1</td>\n",
              "      <td>2</td>\n",
              "      <td>3</td>\n",
              "      <td>4</td>\n",
              "      <td>2</td>\n",
              "      <td>4</td>\n",
              "    </tr>\n",
              "    <tr>\n",
              "      <th>2</th>\n",
              "      <td>2</td>\n",
              "      <td>2</td>\n",
              "      <td>2</td>\n",
              "      <td>1</td>\n",
              "      <td>1</td>\n",
              "      <td>4</td>\n",
              "    </tr>\n",
              "    <tr>\n",
              "      <th>3</th>\n",
              "      <td>3</td>\n",
              "      <td>2</td>\n",
              "      <td>2</td>\n",
              "      <td>1</td>\n",
              "      <td>0</td>\n",
              "      <td>4</td>\n",
              "    </tr>\n",
              "    <tr>\n",
              "      <th>4</th>\n",
              "      <td>4</td>\n",
              "      <td>3</td>\n",
              "      <td>0</td>\n",
              "      <td>2</td>\n",
              "      <td>1</td>\n",
              "      <td>0</td>\n",
              "    </tr>\n",
              "    <tr>\n",
              "      <th>5</th>\n",
              "      <td>5</td>\n",
              "      <td>2</td>\n",
              "      <td>4</td>\n",
              "      <td>3</td>\n",
              "      <td>2</td>\n",
              "      <td>2</td>\n",
              "    </tr>\n",
              "    <tr>\n",
              "      <th>6</th>\n",
              "      <td>6</td>\n",
              "      <td>3</td>\n",
              "      <td>3</td>\n",
              "      <td>0</td>\n",
              "      <td>4</td>\n",
              "      <td>4</td>\n",
              "    </tr>\n",
              "    <tr>\n",
              "      <th>7</th>\n",
              "      <td>7</td>\n",
              "      <td>3</td>\n",
              "      <td>4</td>\n",
              "      <td>0</td>\n",
              "      <td>1</td>\n",
              "      <td>2</td>\n",
              "    </tr>\n",
              "    <tr>\n",
              "      <th>8</th>\n",
              "      <td>8</td>\n",
              "      <td>0</td>\n",
              "      <td>0</td>\n",
              "      <td>2</td>\n",
              "      <td>1</td>\n",
              "      <td>3</td>\n",
              "    </tr>\n",
              "    <tr>\n",
              "      <th>9</th>\n",
              "      <td>9</td>\n",
              "      <td>3</td>\n",
              "      <td>1</td>\n",
              "      <td>2</td>\n",
              "      <td>1</td>\n",
              "      <td>3</td>\n",
              "    </tr>\n",
              "  </tbody>\n",
              "</table>\n",
              "</div>"
            ],
            "text/plain": [
              "   Unnamed: 0  0  1  2  3  4\n",
              "0           0  1  3  2  0  4\n",
              "1           1  2  3  4  2  4\n",
              "2           2  2  2  1  1  4\n",
              "3           3  2  2  1  0  4\n",
              "4           4  3  0  2  1  0\n",
              "5           5  2  4  3  2  2\n",
              "6           6  3  3  0  4  4\n",
              "7           7  3  4  0  1  2\n",
              "8           8  0  0  2  1  3\n",
              "9           9  3  1  2  1  3"
            ]
          },
          "execution_count": 34,
          "metadata": {},
          "output_type": "execute_result"
        }
      ],
      "source": [
        "df = pd.DataFrame(np.random.randint(0, 5, (10, 5)))\n",
        "df.to_csv(\"foo.csv\")\n",
        "pd.read_csv(\"foo.csv\")"
      ]
    },
    {
      "cell_type": "markdown",
      "metadata": {
        "id": "WWaJfYHSF3g0"
      },
      "source": [
        "**Parquet:**"
      ]
    },
    {
      "cell_type": "code",
      "execution_count": 35,
      "metadata": {
        "id": "W38zS1esF3g0"
      },
      "outputs": [
        {
          "data": {
            "text/html": [
              "<div>\n",
              "<style scoped>\n",
              "    .dataframe tbody tr th:only-of-type {\n",
              "        vertical-align: middle;\n",
              "    }\n",
              "\n",
              "    .dataframe tbody tr th {\n",
              "        vertical-align: top;\n",
              "    }\n",
              "\n",
              "    .dataframe thead th {\n",
              "        text-align: right;\n",
              "    }\n",
              "</style>\n",
              "<table border=\"1\" class=\"dataframe\">\n",
              "  <thead>\n",
              "    <tr style=\"text-align: right;\">\n",
              "      <th></th>\n",
              "      <th>0</th>\n",
              "      <th>1</th>\n",
              "      <th>2</th>\n",
              "      <th>3</th>\n",
              "      <th>4</th>\n",
              "    </tr>\n",
              "  </thead>\n",
              "  <tbody>\n",
              "    <tr>\n",
              "      <th>0</th>\n",
              "      <td>1</td>\n",
              "      <td>3</td>\n",
              "      <td>2</td>\n",
              "      <td>0</td>\n",
              "      <td>4</td>\n",
              "    </tr>\n",
              "    <tr>\n",
              "      <th>1</th>\n",
              "      <td>2</td>\n",
              "      <td>3</td>\n",
              "      <td>4</td>\n",
              "      <td>2</td>\n",
              "      <td>4</td>\n",
              "    </tr>\n",
              "    <tr>\n",
              "      <th>2</th>\n",
              "      <td>2</td>\n",
              "      <td>2</td>\n",
              "      <td>1</td>\n",
              "      <td>1</td>\n",
              "      <td>4</td>\n",
              "    </tr>\n",
              "    <tr>\n",
              "      <th>3</th>\n",
              "      <td>2</td>\n",
              "      <td>2</td>\n",
              "      <td>1</td>\n",
              "      <td>0</td>\n",
              "      <td>4</td>\n",
              "    </tr>\n",
              "    <tr>\n",
              "      <th>4</th>\n",
              "      <td>3</td>\n",
              "      <td>0</td>\n",
              "      <td>2</td>\n",
              "      <td>1</td>\n",
              "      <td>0</td>\n",
              "    </tr>\n",
              "    <tr>\n",
              "      <th>5</th>\n",
              "      <td>2</td>\n",
              "      <td>4</td>\n",
              "      <td>3</td>\n",
              "      <td>2</td>\n",
              "      <td>2</td>\n",
              "    </tr>\n",
              "    <tr>\n",
              "      <th>6</th>\n",
              "      <td>3</td>\n",
              "      <td>3</td>\n",
              "      <td>0</td>\n",
              "      <td>4</td>\n",
              "      <td>4</td>\n",
              "    </tr>\n",
              "    <tr>\n",
              "      <th>7</th>\n",
              "      <td>3</td>\n",
              "      <td>4</td>\n",
              "      <td>0</td>\n",
              "      <td>1</td>\n",
              "      <td>2</td>\n",
              "    </tr>\n",
              "    <tr>\n",
              "      <th>8</th>\n",
              "      <td>0</td>\n",
              "      <td>0</td>\n",
              "      <td>2</td>\n",
              "      <td>1</td>\n",
              "      <td>3</td>\n",
              "    </tr>\n",
              "    <tr>\n",
              "      <th>9</th>\n",
              "      <td>3</td>\n",
              "      <td>1</td>\n",
              "      <td>2</td>\n",
              "      <td>1</td>\n",
              "      <td>3</td>\n",
              "    </tr>\n",
              "  </tbody>\n",
              "</table>\n",
              "</div>"
            ],
            "text/plain": [
              "   0  1  2  3  4\n",
              "0  1  3  2  0  4\n",
              "1  2  3  4  2  4\n",
              "2  2  2  1  1  4\n",
              "3  2  2  1  0  4\n",
              "4  3  0  2  1  0\n",
              "5  2  4  3  2  2\n",
              "6  3  3  0  4  4\n",
              "7  3  4  0  1  2\n",
              "8  0  0  2  1  3\n",
              "9  3  1  2  1  3"
            ]
          },
          "execution_count": 35,
          "metadata": {},
          "output_type": "execute_result"
        }
      ],
      "source": [
        "df.to_parquet(\"foo.parquet\")\n",
        "pd.read_parquet(\"foo.parquet\")"
      ]
    },
    {
      "cell_type": "markdown",
      "metadata": {
        "id": "CR67QUpqF3g0"
      },
      "source": [
        "**Excel:**"
      ]
    },
    {
      "cell_type": "code",
      "execution_count": 36,
      "metadata": {
        "id": "a9bca6zZF3g0"
      },
      "outputs": [
        {
          "data": {
            "text/html": [
              "<div>\n",
              "<style scoped>\n",
              "    .dataframe tbody tr th:only-of-type {\n",
              "        vertical-align: middle;\n",
              "    }\n",
              "\n",
              "    .dataframe tbody tr th {\n",
              "        vertical-align: top;\n",
              "    }\n",
              "\n",
              "    .dataframe thead th {\n",
              "        text-align: right;\n",
              "    }\n",
              "</style>\n",
              "<table border=\"1\" class=\"dataframe\">\n",
              "  <thead>\n",
              "    <tr style=\"text-align: right;\">\n",
              "      <th></th>\n",
              "      <th>Unnamed: 0</th>\n",
              "      <th>0</th>\n",
              "      <th>1</th>\n",
              "      <th>2</th>\n",
              "      <th>3</th>\n",
              "      <th>4</th>\n",
              "    </tr>\n",
              "  </thead>\n",
              "  <tbody>\n",
              "    <tr>\n",
              "      <th>0</th>\n",
              "      <td>0</td>\n",
              "      <td>1</td>\n",
              "      <td>3</td>\n",
              "      <td>2</td>\n",
              "      <td>0</td>\n",
              "      <td>4</td>\n",
              "    </tr>\n",
              "    <tr>\n",
              "      <th>1</th>\n",
              "      <td>1</td>\n",
              "      <td>2</td>\n",
              "      <td>3</td>\n",
              "      <td>4</td>\n",
              "      <td>2</td>\n",
              "      <td>4</td>\n",
              "    </tr>\n",
              "    <tr>\n",
              "      <th>2</th>\n",
              "      <td>2</td>\n",
              "      <td>2</td>\n",
              "      <td>2</td>\n",
              "      <td>1</td>\n",
              "      <td>1</td>\n",
              "      <td>4</td>\n",
              "    </tr>\n",
              "    <tr>\n",
              "      <th>3</th>\n",
              "      <td>3</td>\n",
              "      <td>2</td>\n",
              "      <td>2</td>\n",
              "      <td>1</td>\n",
              "      <td>0</td>\n",
              "      <td>4</td>\n",
              "    </tr>\n",
              "    <tr>\n",
              "      <th>4</th>\n",
              "      <td>4</td>\n",
              "      <td>3</td>\n",
              "      <td>0</td>\n",
              "      <td>2</td>\n",
              "      <td>1</td>\n",
              "      <td>0</td>\n",
              "    </tr>\n",
              "    <tr>\n",
              "      <th>5</th>\n",
              "      <td>5</td>\n",
              "      <td>2</td>\n",
              "      <td>4</td>\n",
              "      <td>3</td>\n",
              "      <td>2</td>\n",
              "      <td>2</td>\n",
              "    </tr>\n",
              "    <tr>\n",
              "      <th>6</th>\n",
              "      <td>6</td>\n",
              "      <td>3</td>\n",
              "      <td>3</td>\n",
              "      <td>0</td>\n",
              "      <td>4</td>\n",
              "      <td>4</td>\n",
              "    </tr>\n",
              "    <tr>\n",
              "      <th>7</th>\n",
              "      <td>7</td>\n",
              "      <td>3</td>\n",
              "      <td>4</td>\n",
              "      <td>0</td>\n",
              "      <td>1</td>\n",
              "      <td>2</td>\n",
              "    </tr>\n",
              "    <tr>\n",
              "      <th>8</th>\n",
              "      <td>8</td>\n",
              "      <td>0</td>\n",
              "      <td>0</td>\n",
              "      <td>2</td>\n",
              "      <td>1</td>\n",
              "      <td>3</td>\n",
              "    </tr>\n",
              "    <tr>\n",
              "      <th>9</th>\n",
              "      <td>9</td>\n",
              "      <td>3</td>\n",
              "      <td>1</td>\n",
              "      <td>2</td>\n",
              "      <td>1</td>\n",
              "      <td>3</td>\n",
              "    </tr>\n",
              "  </tbody>\n",
              "</table>\n",
              "</div>"
            ],
            "text/plain": [
              "   Unnamed: 0  0  1  2  3  4\n",
              "0           0  1  3  2  0  4\n",
              "1           1  2  3  4  2  4\n",
              "2           2  2  2  1  1  4\n",
              "3           3  2  2  1  0  4\n",
              "4           4  3  0  2  1  0\n",
              "5           5  2  4  3  2  2\n",
              "6           6  3  3  0  4  4\n",
              "7           7  3  4  0  1  2\n",
              "8           8  0  0  2  1  3\n",
              "9           9  3  1  2  1  3"
            ]
          },
          "execution_count": 36,
          "metadata": {},
          "output_type": "execute_result"
        }
      ],
      "source": [
        "df.to_excel(\"foo.xlsx\", sheet_name=\"Sheet1\")\n",
        "pd.read_excel(\"foo.xlsx\", \"Sheet1\", index_col=None, na_values=[\"NA\"])"
      ]
    },
    {
      "cell_type": "markdown",
      "metadata": {
        "id": "wMo4BTFmF3g0"
      },
      "source": [
        "## Подводные камни\n",
        "\n",
        "**Важное предупреждение**: Самая частая ошибка новичков!\n",
        "\n",
        "**Проблема неоднозначности**: Series нельзя использовать в условии if напрямую, потому что в нем много значений. Python не знает, какое именно проверять.\n",
        "\n",
        "**Решения**:\n",
        "- `.any()` — True если хотя бы одно значение True\n",
        "- `.all()` — True если все значения True  \n",
        "- `.empty` — True если Series пустой\n",
        "- `.bool()` — для Series из одного элемента"
      ]
    },
    {
      "cell_type": "code",
      "execution_count": 37,
      "metadata": {
        "id": "h32kiV7tF3g0"
      },
      "outputs": [
        {
          "ename": "ValueError",
          "evalue": "The truth value of a Series is ambiguous. Use a.empty, a.bool(), a.item(), a.any() or a.all().",
          "output_type": "error",
          "traceback": [
            "\u001b[31m---------------------------------------------------------------------------\u001b[39m",
            "\u001b[31mValueError\u001b[39m                                Traceback (most recent call last)",
            "\u001b[32m/tmp/ipykernel_112922/1591557055.py\u001b[39m in \u001b[36m?\u001b[39m\u001b[34m()\u001b[39m\n\u001b[32m----> \u001b[39m\u001b[32m1\u001b[39m \u001b[38;5;28;01mif\u001b[39;00m pd.Series([\u001b[38;5;28;01mFalse\u001b[39;00m, \u001b[38;5;28;01mTrue\u001b[39;00m, \u001b[38;5;28;01mFalse\u001b[39;00m]):\n\u001b[32m      2\u001b[39m     print(\u001b[33m\"I was true\"\u001b[39m)\n\u001b[32m      3\u001b[39m \u001b[38;5;66;03m# ValueError: The truth value of a Series is ambiguous.\u001b[39;00m\n\u001b[32m      4\u001b[39m \u001b[38;5;66;03m# Используйте: .empty, .bool(), .item(), .any() или .all()\u001b[39;00m\n",
            "\u001b[32m~/otus/llm-dd/otus-ds-basic-tutorial/.venv/lib/python3.11/site-packages/pandas/core/generic.py\u001b[39m in \u001b[36m?\u001b[39m\u001b[34m(self)\u001b[39m\n\u001b[32m   1575\u001b[39m     @final\n\u001b[32m   1576\u001b[39m     \u001b[38;5;28;01mdef\u001b[39;00m __nonzero__(self) -> NoReturn:\n\u001b[32m-> \u001b[39m\u001b[32m1577\u001b[39m         raise ValueError(\n\u001b[32m   1578\u001b[39m             \u001b[33mf\"The truth value of a {type(self).__name__} is ambiguous. \"\u001b[39m\n\u001b[32m   1579\u001b[39m             \u001b[33m\"Use a.empty, a.bool(), a.item(), a.any() or a.all().\"\u001b[39m\n\u001b[32m   1580\u001b[39m         )\n",
            "\u001b[31mValueError\u001b[39m: The truth value of a Series is ambiguous. Use a.empty, a.bool(), a.item(), a.any() or a.all()."
          ]
        }
      ],
      "source": [
        "if pd.Series([False, True, False]):\n",
        "    print(\"I was true\")\n",
        "# ValueError: The truth value of a Series is ambiguous.\n",
        "# Используйте: .empty, .bool(), .item(), .any() или .all()"
      ]
    },
    {
      "cell_type": "markdown",
      "metadata": {
        "id": "f1-wfCviF3g0"
      },
      "source": [
        "---\n",
        "\n",
        "> **Полная документация и дополнительные примеры доступны на официальном сайте библиотеки pandas[1].**\n",
        "\n",
        "[1] https://pandas.pydata.org/docs/user_guide/10min.html"
      ]
    }
  ],
  "metadata": {
    "colab": {
      "include_colab_link": true,
      "provenance": []
    },
    "kernelspec": {
      "display_name": "otus-ds-basic-tutorial",
      "language": "python",
      "name": "python3"
    },
    "language_info": {
      "codemirror_mode": {
        "name": "ipython",
        "version": 3
      },
      "file_extension": ".py",
      "mimetype": "text/x-python",
      "name": "python",
      "nbconvert_exporter": "python",
      "pygments_lexer": "ipython3",
      "version": "3.11.11"
    }
  },
  "nbformat": 4,
  "nbformat_minor": 0
}
