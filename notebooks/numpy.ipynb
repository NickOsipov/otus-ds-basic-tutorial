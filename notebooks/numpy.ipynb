{
  "cells": [
    {
      "cell_type": "markdown",
      "metadata": {
        "id": "UJT0mOC9GFra"
      },
      "source": [
        "# NumPy\n",
        "\n",
        "Краткий интерактивный ноутбук для быстрого освоения библиотеки **NumPy** — на русском языке. Каждый раздел содержит пример кода и краткое пояснение[1]."
      ]
    },
    {
      "cell_type": "markdown",
      "metadata": {
        "id": "fY12nHhyL9hX"
      },
      "source": [
        "## Что такое NumPy и зачем он нужен?\n",
        "\n",
        "**Фундамент всей экосистемы**: NumPy (Numerical Python) — это математическое сердце Python для Data Science. Представьте, что Python — это автомобиль, а NumPy — его двигатель.\n",
        "\n",
        "**Аналогия для новичков**: Если обычные списки Python — это корзина с фруктами (разные типы, медленно считать), то массивы NumPy — это конвейер на заводе (все элементы одного типа, молниеносная обработка).\n",
        "\n",
        "**Почему NumPy критически важен**:\n",
        "- **Скорость**: В 10-100 раз быстрее обычных списков Python\n",
        "- **Основа**: Pandas, scikit-learn, TensorFlow — все построено на NumPy\n",
        "- **Память**: Эффективное хранение больших массивов данных\n",
        "- **Математика**: Готовые функции для линейной алгебры, статистики, обработки сигналов"
      ]
    },
    {
      "cell_type": "markdown",
      "metadata": {
        "id": "lZMyAdqhL9hY"
      },
      "source": [
        "## Импорт библиотеки\n",
        "\n",
        "**Золотое правило**: Всегда импортируйте NumPy как `np` — это стандарт, который используют все специалисты по всему миру. Это как рукопожатие в мире Data Science."
      ]
    },
    {
      "cell_type": "code",
      "execution_count": null,
      "metadata": {
        "id": "58QdX8BLL9hZ"
      },
      "outputs": [],
      "source": [
        "import numpy as np"
      ]
    },
    {
      "cell_type": "markdown",
      "metadata": {
        "id": "V_ELIcKxGFrh"
      },
      "source": [
        "## Основы массивов NumPy\n",
        "\n",
        "**Урок первый**: Массив — это основа всего в NumPy. Это как атом в физике — все состоит из них.\n",
        "\n",
        "**Ключевые понятия**:\n",
        "- **Массив** — упорядоченная коллекция элементов одного типа\n",
        "- **Ранг (rank)** — количество измерений (1D, 2D, 3D...)\n",
        "- **Форма (shape)** — размеры по каждому измерению\n",
        "- **Тип данных (dtype)** — какие числа хранятся (int, float, bool...)"
      ]
    },
    {
      "cell_type": "markdown",
      "metadata": {
        "id": "f-Zv3f7LL9hc"
      },
      "source": [
        "**Простая аналогия**:\n",
        "- **1D массив** — поезд с вагонами (линейная последовательность)\n",
        "- **2D массив** — многоэтажный дом (строки и столбцы)  \n",
        "- **3D массив** — город с домами (слои, строки, столбцы)\n",
        "\n",
        "**В чем отличие от списков Python**: Список может содержать `[1, \"hello\", 3.14]`, а массив NumPy — только `[1, 2, 3]` (один тип). Зато работает в разы быстрее!"
      ]
    },
    {
      "cell_type": "markdown",
      "metadata": {
        "id": "_eMTRnZRL9hc"
      },
      "source": [
        "## Создание массивов\n",
        "\n",
        "**Урок второй**: Есть много способов создать массив. Выберите подходящий для вашей задачи.\n",
        "\n",
        "**Из обычного списка Python:**\n",
        "\n",
        "**Практический совет**: Самый простой способ начать. NumPy автоматически определит тип данных (int64, float64...) по содержимому."
      ]
    },
    {
      "cell_type": "code",
      "execution_count": null,
      "metadata": {
        "colab": {
          "base_uri": "https://localhost:8080/",
          "height": 52
        },
        "id": "-l3JrGxCL9hc",
        "outputId": "8d9dad18-c734-4a8a-ca8c-44060a40fb79"
      },
      "outputs": [
        {
          "name": "stdout",
          "output_type": "stream",
          "text": [
            "<class 'numpy.ndarray'> (3,) 1 2 3\n",
            "[5 2 3]\n"
          ]
        }
      ],
      "source": [
        "a = np.array([1, 2, 3])  # Создать массив ранга 1\n",
        "print(type(a), a.shape, a[0], a[1], a[2])\n",
        "a[0] = 5                 # Изменить элемент массива\n",
        "print(a)"
      ]
    },
    {
      "cell_type": "code",
      "execution_count": null,
      "metadata": {
        "colab": {
          "base_uri": "https://localhost:8080/",
          "height": 52
        },
        "id": "ma6mk-kdL9hh",
        "outputId": "0b54ff2f-e7f1-4b30-c653-9bf81cb8fbb0"
      },
      "outputs": [
        {
          "name": "stdout",
          "output_type": "stream",
          "text": [
            "[[1 2 3]\n",
            " [4 5 6]]\n"
          ]
        }
      ],
      "source": [
        "b = np.array([[1,2,3],[4,5,6]])   # Создать массив ранга 2\n",
        "print(b)"
      ]
    },
    {
      "cell_type": "code",
      "execution_count": null,
      "metadata": {
        "colab": {
          "base_uri": "https://localhost:8080/",
          "height": 52
        },
        "id": "ymfSHAwtL9hj",
        "outputId": "5bd292d8-c751-43b9-d480-f357dde52342"
      },
      "outputs": [
        {
          "name": "stdout",
          "output_type": "stream",
          "text": [
            "(2, 3)\n",
            "1 2 4\n"
          ]
        }
      ],
      "source": [
        "print(b.shape)\n",
        "print(b[0, 0], b[0, 1], b[1, 0])"
      ]
    },
    {
      "cell_type": "markdown",
      "metadata": {
        "id": "F2qwdyvuL9hn"
      },
      "source": [
        "**Специальные массивы — ваши помощники:**\n",
        "\n",
        "**Зачем нужно**: В 90% случаев вам нужен не случайный массив, а заготовка определенного вида. NumPy предлагает готовые решения:"
      ]
    },
    {
      "cell_type": "code",
      "execution_count": null,
      "metadata": {
        "colab": {
          "base_uri": "https://localhost:8080/",
          "height": 52
        },
        "id": "mVTN_EBqL9hn",
        "outputId": "d267c65f-ba90-4043-cedb-f468ab1bcc5d"
      },
      "outputs": [
        {
          "name": "stdout",
          "output_type": "stream",
          "text": [
            "[[0. 0.]\n",
            " [0. 0.]]\n"
          ]
        }
      ],
      "source": [
        "a = np.zeros((2,2))  # Создать массив из нулей\n",
        "print(a)"
      ]
    },
    {
      "cell_type": "code",
      "execution_count": null,
      "metadata": {
        "colab": {
          "base_uri": "https://localhost:8080/",
          "height": 34
        },
        "id": "skiKlNmlL9h5",
        "outputId": "7d1ec1b5-a1fe-4f44-cbe3-cdeacad425f1"
      },
      "outputs": [
        {
          "name": "stdout",
          "output_type": "stream",
          "text": [
            "[[1. 1.]]\n"
          ]
        }
      ],
      "source": [
        "b = np.ones((1,2))   # Создать массив из единиц\n",
        "print(b)"
      ]
    },
    {
      "cell_type": "code",
      "execution_count": null,
      "metadata": {
        "colab": {
          "base_uri": "https://localhost:8080/",
          "height": 52
        },
        "id": "HtFsr03bL9h7",
        "outputId": "2688b157-2fad-4fc6-f20b-8633207f0326"
      },
      "outputs": [
        {
          "name": "stdout",
          "output_type": "stream",
          "text": [
            "[[7 7]\n",
            " [7 7]]\n"
          ]
        }
      ],
      "source": [
        "c = np.full((2,2), 7) # Создать постоянный массив\n",
        "print(c)"
      ]
    },
    {
      "cell_type": "code",
      "execution_count": null,
      "metadata": {
        "colab": {
          "base_uri": "https://localhost:8080/",
          "height": 52
        },
        "id": "-QcALHvkL9h9",
        "outputId": "5035d6fe-cb7e-4222-c972-55fe23c9d4c0"
      },
      "outputs": [
        {
          "name": "stdout",
          "output_type": "stream",
          "text": [
            "[[1. 0.]\n",
            " [0. 1.]]\n"
          ]
        }
      ],
      "source": [
        "d = np.eye(2)        # Создать единичную матрицу 2x2\n",
        "print(d)"
      ]
    },
    {
      "cell_type": "code",
      "execution_count": null,
      "metadata": {
        "colab": {
          "base_uri": "https://localhost:8080/",
          "height": 52
        },
        "id": "RCpaYg9qL9iA",
        "outputId": "25f0b387-39cf-42f3-8701-de860cc75e2e"
      },
      "outputs": [
        {
          "name": "stdout",
          "output_type": "stream",
          "text": [
            "[[0.502921   0.724404  ]\n",
            " [0.75152948 0.31612853]]\n"
          ]
        }
      ],
      "source": [
        "e = np.random.random((2,2)) # Создать массив, заполненный случайными значениями\n",
        "print(e)"
      ]
    },
    {
      "cell_type": "markdown",
      "metadata": {
        "id": "jI5qcSDfL9iC"
      },
      "source": [
        "## Индексация и нарезка — искусство доступа к данным\n",
        "\n",
        "**Урок третий**: Умение быстро извлекать нужные части массива — ключевой навык для анализа данных.\n",
        "\n",
        "**Основные принципы**:\n",
        "- Индексы начинаются с 0 (как в Python)\n",
        "- Можно использовать отрицательные индексы (-1 = последний элемент)\n",
        "- Срезы работают как `[начало:конец:шаг]`\n",
        "- Изменения среза меняют исходный массив!"
      ]
    },
    {
      "cell_type": "markdown",
      "metadata": {
        "id": "M-E4MUeVL9iC"
      },
      "source": [
        "**Важное отличие от списков**: В многомерных массивах используйте `arr[i, j]` вместо `arr[i][j]` — это быстрее и понятнее."
      ]
    },
    {
      "cell_type": "markdown",
      "metadata": {
        "id": "QYv4JyIEL9iD"
      },
      "source": [
        "**Нарезка многомерных массивов:**\n",
        "\n",
        "**Мастер-класс**: Каждое измерение указывается через запятую. `:` означает \"взять все по этому измерению\"."
      ]
    },
    {
      "cell_type": "code",
      "execution_count": null,
      "metadata": {
        "colab": {
          "base_uri": "https://localhost:8080/",
          "height": 52
        },
        "id": "wLWA0udwL9iD",
        "outputId": "99f08618-c513-4982-8982-b146fc72dab3"
      },
      "outputs": [
        {
          "name": "stdout",
          "output_type": "stream",
          "text": [
            "[[2 3]\n",
            " [6 7]]\n"
          ]
        }
      ],
      "source": [
        "import numpy as np\n",
        "\n",
        "# Создать следующий массив ранга 2 с формой (3, 4)\n",
        "# [[ 1  2  3  4]\n",
        "#  [ 5  6  7  8]\n",
        "#  [ 9 10 11 12]]\n",
        "a = np.array([[1,2,3,4], [5,6,7,8], [9,10,11,12]])\n",
        "\n",
        "# Использовать нарезку для извлечения подмассива, состоящего из первых 2 строк\n",
        "# и столбцов 1 и 2; b - следующий массив формы (2, 2):\n",
        "# [[2 3]\n",
        "#  [6 7]]\n",
        "b = a[:2, 1:3]\n",
        "print(b)"
      ]
    },
    {
      "cell_type": "markdown",
      "metadata": {
        "id": "KahhtZKYL9iF"
      },
      "source": [
        "**ОСТОРОЖНО**: Срез — это не копия, а вид на те же данные! Изменение среза изменяет исходный массив. Это экономит память, но может привести к неожиданным результатам."
      ]
    },
    {
      "cell_type": "code",
      "execution_count": null,
      "metadata": {
        "colab": {
          "base_uri": "https://localhost:8080/",
          "height": 52
        },
        "id": "1kmtaFHuL9iG",
        "outputId": "ee3ab60c-4064-4a9e-b04c-453d3955f1d1"
      },
      "outputs": [
        {
          "name": "stdout",
          "output_type": "stream",
          "text": [
            "2\n",
            "77\n"
          ]
        }
      ],
      "source": [
        "print(a[0, 1])\n",
        "b[0, 0] = 77    # b[0, 0] - это тот же кусок данных, что и a[0, 1]\n",
        "print(a[0, 1])"
      ]
    },
    {
      "cell_type": "markdown",
      "metadata": {
        "id": "_Zcf3zi-L9iI"
      },
      "source": [
        "**Разница в размерности — важно понимать!**\n",
        "\n",
        "**Ключевой момент**: Способ индексации влияет на форму результата. Это критично для дальнейших вычислений."
      ]
    },
    {
      "cell_type": "code",
      "execution_count": null,
      "metadata": {
        "colab": {
          "base_uri": "https://localhost:8080/",
          "height": 69
        },
        "id": "G6lfbPuxL9iJ",
        "outputId": "a225fe9d-2a29-4e14-a243-2b7d583bd4bc"
      },
      "outputs": [
        {
          "name": "stdout",
          "output_type": "stream",
          "text": [
            "[[ 1  2  3  4]\n",
            " [ 5  6  7  8]\n",
            " [ 9 10 11 12]]\n"
          ]
        }
      ],
      "source": [
        "# Создать следующий массив ранга 2 с формой (3, 4)\n",
        "a = np.array([[1,2,3,4], [5,6,7,8], [9,10,11,12]])\n",
        "print(a)"
      ]
    },
    {
      "cell_type": "markdown",
      "metadata": {
        "id": "NCye3NXhL9iL"
      },
      "source": [
        "**Понимание размерности при индексации:**\n",
        "\n",
        "**Практическое правило**:\n",
        "- `a[1, :]` → 1D массив (строка)\n",
        "- `a[1:2, :]` → 2D массив (одна строка, но в 2D)\n",
        "- `a[[1], :]` → 2D массив (через fancy indexing)\n",
        "\n",
        "**Когда это важно**: При умножении матриц и других операциях линейной алгебры размерность критична!"
      ]
    },
    {
      "cell_type": "code",
      "execution_count": null,
      "metadata": {
        "colab": {
          "base_uri": "https://localhost:8080/",
          "height": 69
        },
        "id": "EOiEMsmNL9iL",
        "outputId": "ab2ebe48-9002-45a8-9462-fd490b467f40"
      },
      "outputs": [
        {
          "name": "stdout",
          "output_type": "stream",
          "text": [
            "[5 6 7 8] (4,)\n",
            "[[5 6 7 8]] (1, 4)\n",
            "[[5 6 7 8]] (1, 4)\n"
          ]
        }
      ],
      "source": [
        "row_r1 = a[1, :]    # Представление ранга 1 второй строки a\n",
        "row_r2 = a[1:2, :]  # Представление ранга 2 второй строки a\n",
        "row_r3 = a[[1], :]  # Представление ранга 2 второй строки a\n",
        "print(row_r1, row_r1.shape)\n",
        "print(row_r2, row_r2.shape)\n",
        "print(row_r3, row_r3.shape)"
      ]
    },
    {
      "cell_type": "code",
      "execution_count": null,
      "metadata": {
        "colab": {
          "base_uri": "https://localhost:8080/",
          "height": 104
        },
        "id": "JXu73pfDL9iN",
        "outputId": "6c589b85-e9b0-4c13-a39d-4cd9fb2f41ac"
      },
      "outputs": [
        {
          "name": "stdout",
          "output_type": "stream",
          "text": [
            "[ 2  6 10] (3,)\n",
            "\n",
            "[[ 2]\n",
            " [ 6]\n",
            " [10]] (3, 1)\n"
          ]
        }
      ],
      "source": [
        "# Мы можем сделать то же различие при доступе к столбцам массива:\n",
        "col_r1 = a[:, 1]\n",
        "col_r2 = a[:, 1:2]\n",
        "print(col_r1, col_r1.shape)\n",
        "print()\n",
        "print(col_r2, col_r2.shape)"
      ]
    },
    {
      "cell_type": "markdown",
      "metadata": {
        "id": "VP3916bOL9iP"
      },
      "source": [
        "**Продвинутая индексация — выбираем произвольные элементы:**\n",
        "\n",
        "**Магия fancy indexing**: Можете передать список индексов для выбора произвольных элементов. Это как VIP-доступ к любым данным в массиве!"
      ]
    },
    {
      "cell_type": "code",
      "execution_count": null,
      "metadata": {
        "colab": {
          "base_uri": "https://localhost:8080/",
          "height": 52
        },
        "id": "TBnWonIDL9iP",
        "outputId": "c29fa2cd-234e-4765-c70a-6889acc63573"
      },
      "outputs": [
        {
          "name": "stdout",
          "output_type": "stream",
          "text": [
            "[1 4 5]\n",
            "[1 4 5]\n"
          ]
        }
      ],
      "source": [
        "a = np.array([[1,2], [3, 4], [5, 6]])\n",
        "\n",
        "# Пример целочисленной индексации массива.\n",
        "# Возвращенный массив будет иметь форму (3,) и\n",
        "print(a[[0, 1, 2], [0, 1, 0]])\n",
        "\n",
        "# Приведенный выше пример целочисленной индексации массива эквивалентен этому:\n",
        "print(np.array([a[0, 0], a[1, 1], a[2, 0]]))"
      ]
    },
    {
      "cell_type": "code",
      "execution_count": null,
      "metadata": {
        "colab": {
          "base_uri": "https://localhost:8080/",
          "height": 52
        },
        "id": "n7vuati-L9iR",
        "outputId": "c3e9ba14-f66e-4202-999e-2e1aed5bd631"
      },
      "outputs": [
        {
          "name": "stdout",
          "output_type": "stream",
          "text": [
            "[2 2]\n",
            "[2 2]\n"
          ]
        }
      ],
      "source": [
        "# При использовании целочисленной индексации массива вы можете повторно использовать тот же\n",
        "# элемент из исходного массива:\n",
        "print(a[[0, 0], [1, 1]])\n",
        "\n",
        "# Эквивалентно предыдущему примеру целочисленной индексации массива\n",
        "print(np.array([a[0, 1], a[0, 1]]))"
      ]
    },
    {
      "cell_type": "markdown",
      "metadata": {
        "id": "kaipSLafL9iU"
      },
      "source": [
        "**Практический пример — выбор элементов по строкам:**\n",
        "\n",
        "**Реальная задача**: Часто нужно взять один элемент из каждой строки матрицы. Например, выбрать максимальное значение из каждой строки по его индексу."
      ]
    },
    {
      "cell_type": "code",
      "execution_count": null,
      "metadata": {
        "colab": {
          "base_uri": "https://localhost:8080/",
          "height": 86
        },
        "id": "ehqsV7TXL9iU",
        "outputId": "de509c40-4ee4-4b7c-e75d-1a936a3350e7"
      },
      "outputs": [
        {
          "name": "stdout",
          "output_type": "stream",
          "text": [
            "[[ 1  2  3]\n",
            " [ 4  5  6]\n",
            " [ 7  8  9]\n",
            " [10 11 12]]\n"
          ]
        }
      ],
      "source": [
        "# Создать новый массив, из которого мы будем выбирать элементы\n",
        "a = np.array([[1,2,3], [4,5,6], [7,8,9], [10, 11, 12]])\n",
        "print(a)"
      ]
    },
    {
      "cell_type": "code",
      "execution_count": null,
      "metadata": {
        "colab": {
          "base_uri": "https://localhost:8080/",
          "height": 34
        },
        "id": "pAPOoqy5L9iV",
        "outputId": "f812e29b-9218-4767-d3a8-e9854e754e68"
      },
      "outputs": [
        {
          "name": "stdout",
          "output_type": "stream",
          "text": [
            "[ 1  6  7 11]\n"
          ]
        }
      ],
      "source": [
        "# Создать массив индексов\n",
        "b = np.array([0, 2, 0, 1])\n",
        "\n",
        "# Выбрать один элемент из каждой строки a, используя индексы в b\n",
        "print(a[np.arange(4), b])  # Выводит \"[ 1  6  7 11]\""
      ]
    },
    {
      "cell_type": "code",
      "execution_count": null,
      "metadata": {
        "colab": {
          "base_uri": "https://localhost:8080/",
          "height": 86
        },
        "id": "6v1PdI1DL9ib",
        "outputId": "89f50f82-de1b-4417-e55c-edbc0ee07584"
      },
      "outputs": [
        {
          "name": "stdout",
          "output_type": "stream",
          "text": [
            "[[11  2  3]\n",
            " [ 4  5 16]\n",
            " [17  8  9]\n",
            " [10 21 12]]\n"
          ]
        }
      ],
      "source": [
        "# Изменить один элемент из каждой строки a, используя индексы в b\n",
        "a[np.arange(4), b] += 10\n",
        "print(a)"
      ]
    },
    {
      "cell_type": "markdown",
      "metadata": {
        "id": "kaE8dBGgL9id"
      },
      "source": [
        "**Булева индексация — фильтрация как в SQL:**\n",
        "\n",
        "**Суперсила NumPy**: Создавайте маски условий для фильтрации данных. Это как WHERE-условие в базах данных, но гораздо мощнее!\n",
        "\n",
        "**Как это работает**:\n",
        "1. `a > 2` создает массив True/False\n",
        "2. `a[маска]` возвращает только элементы, где True\n",
        "3. Результат — всегда 1D массив"
      ]
    },
    {
      "cell_type": "code",
      "execution_count": null,
      "metadata": {
        "colab": {
          "base_uri": "https://localhost:8080/",
          "height": 69
        },
        "id": "32PusjtKL9id",
        "outputId": "8782e8ec-b78d-44d7-8141-23e39750b854"
      },
      "outputs": [
        {
          "name": "stdout",
          "output_type": "stream",
          "text": [
            "[[False False]\n",
            " [ True  True]\n",
            " [ True  True]]\n"
          ]
        }
      ],
      "source": [
        "import numpy as np\n",
        "\n",
        "a = np.array([[1,2], [3, 4], [5, 6]])\n",
        "\n",
        "bool_idx = (a > 2)  # Найти элементы a, которые больше 2;\n",
        "                    # это возвращает массив NumPy булевых значений той же\n",
        "                    # формы, что и a, где каждый слот bool_idx говорит\n",
        "                    # больше ли этот элемент a чем 2.\n",
        "\n",
        "print(bool_idx)"
      ]
    },
    {
      "cell_type": "code",
      "execution_count": null,
      "metadata": {
        "colab": {
          "base_uri": "https://localhost:8080/",
          "height": 52
        },
        "id": "cb2IRMXaL9if",
        "outputId": "5983f208-3738-472d-d6ab-11fe85b36c95"
      },
      "outputs": [
        {
          "name": "stdout",
          "output_type": "stream",
          "text": [
            "[3 4 5 6]\n",
            "[3 4 5 6]\n"
          ]
        }
      ],
      "source": [
        "# Мы используем булеву индексацию массива для создания массива ранга 1,\n",
        "# состоящего из элементов a, соответствующих значениям True\n",
        "# в bool_idx\n",
        "print(a[bool_idx])\n",
        "\n",
        "# Мы можем сделать все вышеперечисленное в одном кратком утверждении:\n",
        "print(a[a > 2])"
      ]
    },
    {
      "cell_type": "markdown",
      "metadata": {
        "id": "CdofMonAL9ih"
      },
      "source": [
        "**Дополнительные материалы**: Индексация в NumPy — огромная тема. Мы показали основы, но возможностей гораздо больше. Если хотите стать экспертом, изучите [документацию NumPy по индексации](http://docs.scipy.org/doc/numpy/reference/arrays.indexing.html)."
      ]
    },
    {
      "cell_type": "markdown",
      "metadata": {
        "id": "jTctwqdQL9ih"
      },
      "source": [
        "## Типы данных — эффективность превыше всего\n",
        "\n",
        "**Урок четвертый**: Правильный выбор типа данных может кардинально повлиять на скорость и память.\n",
        "\n",
        "**Почему это важно**:\n",
        "- `int8` занимает 1 байт, `int64` — 8 байт\n",
        "- Для массива из миллиона элементов разница в 8 раз по памяти!\n",
        "- Неправильный тип может привести к переполнению или потере точности"
      ]
    },
    {
      "cell_type": "markdown",
      "metadata": {
        "id": "kSZQ1WkIL9ih"
      },
      "source": [
        "**Автоматическое определение vs явное указание:**\n",
        "\n",
        "**Умный NumPy**: Автоматически определяет подходящий тип, но иногда лучше указать явно для контроля памяти и производительности."
      ]
    },
    {
      "cell_type": "code",
      "execution_count": null,
      "metadata": {
        "colab": {
          "base_uri": "https://localhost:8080/",
          "height": 34
        },
        "id": "4za4O0m5L9ih",
        "outputId": "2ea4fb80-a4df-43f9-c162-5665895c13ae"
      },
      "outputs": [
        {
          "name": "stdout",
          "output_type": "stream",
          "text": [
            "int64 float64 int64\n"
          ]
        }
      ],
      "source": [
        "x = np.array([1, 2])  # Позволить NumPy выбрать тип данных\n",
        "y = np.array([1.0, 2.0])  # Позволить NumPy выбрать тип данных\n",
        "z = np.array([1, 2], dtype=np.int64)  # Принудительно задать конкретный тип данных\n",
        "\n",
        "print(x.dtype, y.dtype, z.dtype)"
      ]
    },
    {
      "cell_type": "markdown",
      "metadata": {
        "id": "RLVIsZQpL9ik"
      },
      "source": [
        "Вы можете прочитать все о типах данных NumPy в [документации](http://docs.scipy.org/doc/numpy/reference/arrays.dtypes.html)."
      ]
    },
    {
      "cell_type": "markdown",
      "metadata": {
        "id": "TuB-fdhIL9ik"
      },
      "source": [
        "## Математические операции — сердце NumPy\n",
        "\n",
        "**Урок пятый**: NumPy превращает математику в простые команды. Все операции работают поэлементно и молниеносно.\n",
        "\n",
        "**Философия NumPy**: \"Делайте сложные вычисления простыми\". Одна строка кода может заменить циклы из сотен строк."
      ]
    },
    {
      "cell_type": "markdown",
      "metadata": {
        "id": "18e8V8elL9ik"
      },
      "source": [
        "**Поэлементные операции — как калькулятор, но для массивов:**\n",
        "\n",
        "**Принцип**: Каждая операция применяется к соответствующим элементам. `a[0] + b[0]`, `a[1] + b[1]`, и так далее. Никаких циклов в коде!"
      ]
    },
    {
      "cell_type": "code",
      "execution_count": null,
      "metadata": {
        "colab": {
          "base_uri": "https://localhost:8080/",
          "height": 86
        },
        "id": "gHKvBrSKL9il",
        "outputId": "a8a924b1-9d60-4b68-8fd3-e4657ae3f08b"
      },
      "outputs": [
        {
          "name": "stdout",
          "output_type": "stream",
          "text": [
            "[[ 6.  8.]\n",
            " [10. 12.]]\n",
            "[[ 6.  8.]\n",
            " [10. 12.]]\n"
          ]
        }
      ],
      "source": [
        "x = np.array([[1,2],[3,4]], dtype=np.float64)\n",
        "y = np.array([[5,6],[7,8]], dtype=np.float64)\n",
        "\n",
        "# Поэлементное сложение; оба производят массив\n",
        "print(x + y)\n",
        "print(np.add(x, y))"
      ]
    },
    {
      "cell_type": "code",
      "execution_count": null,
      "metadata": {
        "colab": {
          "base_uri": "https://localhost:8080/",
          "height": 86
        },
        "id": "1fZtIAMxL9in",
        "outputId": "122f1380-6144-4d6c-9d31-f62d839889a2"
      },
      "outputs": [
        {
          "name": "stdout",
          "output_type": "stream",
          "text": [
            "[[-4. -4.]\n",
            " [-4. -4.]]\n",
            "[[-4. -4.]\n",
            " [-4. -4.]]\n"
          ]
        }
      ],
      "source": [
        "# Поэлементное вычитание; оба производят массив\n",
        "print(x - y)\n",
        "print(np.subtract(x, y))"
      ]
    },
    {
      "cell_type": "code",
      "execution_count": null,
      "metadata": {
        "colab": {
          "base_uri": "https://localhost:8080/",
          "height": 86
        },
        "id": "nil4AScML9io",
        "outputId": "038c8bb2-122b-4e59-c0a8-a091014fe68e"
      },
      "outputs": [
        {
          "name": "stdout",
          "output_type": "stream",
          "text": [
            "[[ 5. 12.]\n",
            " [21. 32.]]\n",
            "[[ 5. 12.]\n",
            " [21. 32.]]\n"
          ]
        }
      ],
      "source": [
        "# Поэлементное произведение; оба производят массив\n",
        "print(x * y)\n",
        "print(np.multiply(x, y))"
      ]
    },
    {
      "cell_type": "code",
      "execution_count": null,
      "metadata": {
        "colab": {
          "base_uri": "https://localhost:8080/",
          "height": 86
        },
        "id": "0JoA4lH6L9ip",
        "outputId": "12351a74-7871-4bc2-97ce-a508bf4810da"
      },
      "outputs": [
        {
          "name": "stdout",
          "output_type": "stream",
          "text": [
            "[[0.2        0.33333333]\n",
            " [0.42857143 0.5       ]]\n",
            "[[0.2        0.33333333]\n",
            " [0.42857143 0.5       ]]\n"
          ]
        }
      ],
      "source": [
        "# Поэлементное деление; оба производят массив\n",
        "# [[ 0.2         0.33333333]\n",
        "#  [ 0.42857143  0.5       ]]\n",
        "print(x / y)\n",
        "print(np.divide(x, y))"
      ]
    },
    {
      "cell_type": "code",
      "execution_count": null,
      "metadata": {
        "colab": {
          "base_uri": "https://localhost:8080/",
          "height": 52
        },
        "id": "g0iZuA6bL9ir",
        "outputId": "29927dda-4167-4aa8-fbda-9008b09e4356"
      },
      "outputs": [
        {
          "name": "stdout",
          "output_type": "stream",
          "text": [
            "[[1.         1.41421356]\n",
            " [1.73205081 2.        ]]\n"
          ]
        }
      ],
      "source": [
        "# Поэлементный квадратный корень; производит массив\n",
        "# [[ 1.          1.41421356]\n",
        "#  [ 1.73205081  2.        ]]\n",
        "print(np.sqrt(x))"
      ]
    },
    {
      "cell_type": "markdown",
      "metadata": {
        "id": "a5d_uujuL9it"
      },
      "source": [
        "**ВАЖНОЕ ОТЛИЧИЕ от MATLAB**: В NumPy `*` означает поэлементное умножение, а не матричное! Для матричного умножения используйте `@` или `np.dot()`."
      ]
    },
    {
      "cell_type": "code",
      "execution_count": null,
      "metadata": {
        "colab": {
          "base_uri": "https://localhost:8080/",
          "height": 52
        },
        "id": "I3FnmoSeL9iu",
        "outputId": "46f4575a-2e5e-4347-a34e-0cc5bd280110"
      },
      "outputs": [
        {
          "name": "stdout",
          "output_type": "stream",
          "text": [
            "219\n",
            "219\n"
          ]
        }
      ],
      "source": [
        "x = np.array([[1,2],[3,4]])\n",
        "y = np.array([[5,6],[7,8]])\n",
        "\n",
        "v = np.array([9,10])\n",
        "w = np.array([11, 12])\n",
        "\n",
        "# Внутреннее произведение векторов; оба производят 219\n",
        "print(v.dot(w))\n",
        "print(np.dot(v, w))"
      ]
    },
    {
      "cell_type": "markdown",
      "metadata": {
        "id": "vmxPbrHASVeA"
      },
      "source": [
        "**Современный способ**: Оператор `@` введен в Python 3.5+ и является предпочтительным для матричного умножения. Читается естественно!"
      ]
    },
    {
      "cell_type": "code",
      "execution_count": null,
      "metadata": {
        "colab": {
          "base_uri": "https://localhost:8080/",
          "height": 34
        },
        "id": "vyrWA-mXSdtt",
        "outputId": "a9aae545-2c93-4649-b220-b097655955f6"
      },
      "outputs": [
        {
          "name": "stdout",
          "output_type": "stream",
          "text": [
            "219\n"
          ]
        }
      ],
      "source": [
        "print(v @ w)"
      ]
    },
    {
      "cell_type": "code",
      "execution_count": null,
      "metadata": {
        "colab": {
          "base_uri": "https://localhost:8080/",
          "height": 69
        },
        "id": "zvUODeTxL9iw",
        "outputId": "4093fc76-094f-4453-a421-a212b5226968"
      },
      "outputs": [
        {
          "name": "stdout",
          "output_type": "stream",
          "text": [
            "[29 67]\n",
            "[29 67]\n",
            "[29 67]\n"
          ]
        }
      ],
      "source": [
        "# Произведение матрицы на вектор; оба производят массив ранга 1 [29 67]\n",
        "print(x.dot(v))\n",
        "print(np.dot(x, v))\n",
        "print(x @ v)"
      ]
    },
    {
      "cell_type": "code",
      "execution_count": null,
      "metadata": {
        "colab": {
          "base_uri": "https://localhost:8080/",
          "height": 121
        },
        "id": "3V_3NzNEL9iy",
        "outputId": "af2a89f9-af5d-47a6-9ad2-06a84b521b94"
      },
      "outputs": [
        {
          "name": "stdout",
          "output_type": "stream",
          "text": [
            "[[19 22]\n",
            " [43 50]]\n",
            "[[19 22]\n",
            " [43 50]]\n",
            "[[19 22]\n",
            " [43 50]]\n"
          ]
        }
      ],
      "source": [
        "# Произведение матриц; оба производят массив ранга 2\n",
        "# [[19 22]\n",
        "#  [43 50]]\n",
        "print(x.dot(y))\n",
        "print(np.dot(x, y))\n",
        "print(x @ y)"
      ]
    },
    {
      "cell_type": "markdown",
      "metadata": {
        "id": "FbE-1If_L9i0"
      },
      "source": [
        "**Агрегирующие функции — извлекаем смысл из данных:**\n",
        "\n",
        "**Зачем нужны**: Превращают массивы в конкретные числа для принятия решений. Сумма, среднее, максимум — основа статистики."
      ]
    },
    {
      "cell_type": "code",
      "execution_count": null,
      "metadata": {
        "colab": {
          "base_uri": "https://localhost:8080/",
          "height": 69
        },
        "id": "DZUdZvPrL9i0",
        "outputId": "99cad470-d692-4b25-91c9-a57aa25f4c6e"
      },
      "outputs": [
        {
          "name": "stdout",
          "output_type": "stream",
          "text": [
            "10\n",
            "[4 6]\n",
            "[3 7]\n"
          ]
        }
      ],
      "source": [
        "x = np.array([[1,2],[3,4]])\n",
        "\n",
        "print(np.sum(x))  # Вычислить сумму всех элементов; выводит \"10\"\n",
        "print(np.sum(x, axis=0))  # Вычислить сумму каждого столбца; выводит \"[4 6]\"\n",
        "print(np.sum(x, axis=1))  # Вычислить сумму каждой строки; выводит \"[3 7]\""
      ]
    },
    {
      "cell_type": "markdown",
      "metadata": {
        "id": "ahdVW4iUL9i3"
      },
      "source": [
        "**Понимание осей — ключ к успеху:**\n",
        "\n",
        "**Простое правило**:\n",
        "- `axis=0` — операция \"сверху вниз\" (по строкам, результат для каждого столбца)\n",
        "- `axis=1` — операция \"слева направо\" (по столбцам, результат для каждой строки)\n",
        "- Без указания оси — операция по всему массиву\n",
        "\n",
        "**Транспонирование — переворачиваем матрицу:**\n",
        "\n",
        "**Когда нужно**: Часто в машинном обучении данные должны быть в определенной ориентации. Транспонирование — ваш инструмент для этого."
      ]
    },
    {
      "cell_type": "code",
      "execution_count": null,
      "metadata": {
        "colab": {
          "base_uri": "https://localhost:8080/",
          "height": 104
        },
        "id": "63Yl1f3oL9i3",
        "outputId": "c75ac7ba-4351-42f8-a09c-a4e0d966ab50"
      },
      "outputs": [
        {
          "name": "stdout",
          "output_type": "stream",
          "text": [
            "[[1 2]\n",
            " [3 4]]\n",
            "транспонирование\n",
            " [[1 3]\n",
            " [2 4]]\n"
          ]
        }
      ],
      "source": [
        "print(x)\n",
        "print(\"транспонирование\\n\", x.T)"
      ]
    },
    {
      "cell_type": "code",
      "execution_count": null,
      "metadata": {
        "colab": {
          "base_uri": "https://localhost:8080/",
          "height": 104
        },
        "id": "mkk03eNIL9i4",
        "outputId": "499eec5a-55b7-473a-d4aa-9d023d63885a"
      },
      "outputs": [
        {
          "name": "stdout",
          "output_type": "stream",
          "text": [
            "[[1 2 3]]\n",
            "транспонирование\n",
            " [[1]\n",
            " [2]\n",
            " [3]]\n"
          ]
        }
      ],
      "source": [
        "v = np.array([[1,2,3]])\n",
        "print(v )\n",
        "print(\"транспонирование\\n\", v.T)"
      ]
    },
    {
      "cell_type": "markdown",
      "metadata": {
        "id": "REfLrUTcL9i7"
      },
      "source": [
        "## Broadcasting — магия NumPy\n",
        "\n",
        "**Урок шестой**: Broadcasting — это суперсила NumPy, которая позволяет выполнять операции с массивами разных размеров.\n",
        "\n",
        "**Аналогия**: Представьте, что у вас есть штамп и большой лист бумаги. Broadcasting — это когда NumPy автоматически \"штампует\" маленький массив по большому массиву."
      ]
    },
    {
      "cell_type": "markdown",
      "metadata": {
        "id": "EygGAMWqL9i7"
      },
      "source": [
        "**Задача**: Добавить вектор к каждой строке матрицы.\n",
        "\n",
        "**Наивный подход** (медленно, много кода):\n",
        "```python\n",
        "for i in range(len(matrix)):\n",
        "    matrix[i] = matrix[i] + vector\n",
        "```\n",
        "\n",
        "**Подход NumPy** (быстро, одна строка):\n",
        "```python\n",
        "result = matrix + vector  # Broadcasting!\n",
        "```"
      ]
    },
    {
      "cell_type": "code",
      "execution_count": null,
      "metadata": {
        "colab": {
          "base_uri": "https://localhost:8080/",
          "height": 86
        },
        "id": "WEEvkV1ZL9i7",
        "outputId": "3896d03c-3ece-4aa8-f675-aef3a220574d"
      },
      "outputs": [
        {
          "name": "stdout",
          "output_type": "stream",
          "text": [
            "[[ 2  2  4]\n",
            " [ 5  5  7]\n",
            " [ 8  8 10]\n",
            " [11 11 13]]\n"
          ]
        }
      ],
      "source": [
        "# Мы добавим вектор v к каждой строке матрицы x,\n",
        "# сохраняя результат в матрице y\n",
        "x = np.array([[1,2,3], [4,5,6], [7,8,9], [10, 11, 12]])\n",
        "v = np.array([1, 0, 1])\n",
        "y = np.empty_like(x)   # Создать пустую матрицу с той же формой, что и x\n",
        "\n",
        "# Добавить вектор v к каждой строке матрицы x с помощью явного цикла\n",
        "for i in range(4):\n",
        "    y[i, :] = x[i, :] + v\n",
        "\n",
        "print(y)"
      ]
    },
    {
      "cell_type": "markdown",
      "metadata": {
        "id": "2OlXXupEL9i-"
      },
      "source": [
        "**Альтернативный способ** (работает, но расходует память):\n",
        "\n",
        "**Проблема**: `np.tile()` создает реальные копии в памяти. Broadcasting делает то же самое, но эффективнее!"
      ]
    },
    {
      "cell_type": "code",
      "execution_count": null,
      "metadata": {
        "colab": {
          "base_uri": "https://localhost:8080/",
          "height": 86
        },
        "id": "vS7UwAQQL9i-",
        "outputId": "8621e502-c25d-4a18-c973-886dbfd1df36"
      },
      "outputs": [
        {
          "name": "stdout",
          "output_type": "stream",
          "text": [
            "[[1 0 1]\n",
            " [1 0 1]\n",
            " [1 0 1]\n",
            " [1 0 1]]\n"
          ]
        }
      ],
      "source": [
        "vv = np.tile(v, (4, 1))  # Наложить 4 копии v друг на друга\n",
        "print(vv)                # Выводит \"[[1 0 1]\n",
        "                         #          [1 0 1]\n",
        "                         #          [1 0 1]\n",
        "                         #          [1 0 1]]\""
      ]
    },
    {
      "cell_type": "code",
      "execution_count": null,
      "metadata": {
        "colab": {
          "base_uri": "https://localhost:8080/",
          "height": 86
        },
        "id": "N0hJphSIL9jA",
        "outputId": "def6a757-170c-43bf-8728-732dfb133273"
      },
      "outputs": [
        {
          "name": "stdout",
          "output_type": "stream",
          "text": [
            "[[ 2  2  4]\n",
            " [ 5  5  7]\n",
            " [ 8  8 10]\n",
            " [11 11 13]]\n"
          ]
        }
      ],
      "source": [
        "y = x + vv  # Добавить x и vv поэлементно\n",
        "print(y)"
      ]
    },
    {
      "cell_type": "markdown",
      "metadata": {
        "id": "zHos6RJnL9jB"
      },
      "source": [
        "**Broadcasting в действии — магия происходит автоматически:**\n",
        "\n",
        "**Как это работает**: NumPy \"мысленно\" растягивает маленький массив до размера большого, но в памяти создает только результат."
      ]
    },
    {
      "cell_type": "code",
      "execution_count": null,
      "metadata": {
        "colab": {
          "base_uri": "https://localhost:8080/",
          "height": 86
        },
        "id": "vnYFb-gYL9jC",
        "outputId": "df3bea8a-ad72-4a83-90bb-306b55c6fb93"
      },
      "outputs": [
        {
          "name": "stdout",
          "output_type": "stream",
          "text": [
            "[[ 2  2  4]\n",
            " [ 5  5  7]\n",
            " [ 8  8 10]\n",
            " [11 11 13]]\n"
          ]
        }
      ],
      "source": [
        "import numpy as np\n",
        "\n",
        "# Мы добавим вектор v к каждой строке матрицы x,\n",
        "# сохраняя результат в матрице y\n",
        "x = np.array([[1,2,3], [4,5,6], [7,8,9], [10, 11, 12]])\n",
        "v = np.array([1, 0, 1])\n",
        "y = x + v  # Добавить v к каждой строке x, используя транслирование\n",
        "print(y)"
      ]
    },
    {
      "cell_type": "markdown",
      "metadata": {
        "id": "08YyIURKL9jH"
      },
      "source": [
        "**Правила Broadcasting** (не обязательно запоминать, но полезно понимать):\n",
        "\n",
        "1. **Выравнивание размеров**: Если ранги разные, добавляются единицы слева\n",
        "2. **Совместимость**: Размеры совместимы, если они равны или один из них равен 1\n",
        "3. **Растяжение**: Размерность 1 \"растягивается\" до нужного размера\n",
        "4. **Результат**: Форма результата — максимум по каждой размерности\n",
        "\n",
        "**Практические примеры Broadcasting:**"
      ]
    },
    {
      "cell_type": "code",
      "execution_count": null,
      "metadata": {
        "colab": {
          "base_uri": "https://localhost:8080/",
          "height": 69
        },
        "id": "EmQnwoM9L9jH",
        "outputId": "f59e181e-e2d4-416c-d094-c4d003ce8509"
      },
      "outputs": [
        {
          "name": "stdout",
          "output_type": "stream",
          "text": [
            "[[ 4  5]\n",
            " [ 8 10]\n",
            " [12 15]]\n"
          ]
        }
      ],
      "source": [
        "# Вычислить внешнее произведение векторов\n",
        "v = np.array([1,2,3])  # v имеет форму (3,)\n",
        "w = np.array([4,5])    # w имеет форму (2,)\n",
        "# Чтобы вычислить внешнее произведение, мы сначала изменяем форму v до столбца\n",
        "# вектора формы (3, 1); затем мы можем транслировать его против w, чтобы получить\n",
        "# выход формы (3, 2), который является внешним произведением v и w:\n",
        "\n",
        "print(np.reshape(v, (3, 1)) * w)"
      ]
    },
    {
      "cell_type": "code",
      "execution_count": null,
      "metadata": {
        "colab": {
          "base_uri": "https://localhost:8080/",
          "height": 52
        },
        "id": "PgotmpcnL9jK",
        "outputId": "567763d3-073a-4e3c-9ebe-6c7d2b6d3446"
      },
      "outputs": [
        {
          "name": "stdout",
          "output_type": "stream",
          "text": [
            "[[2 4 6]\n",
            " [5 7 9]]\n"
          ]
        }
      ],
      "source": [
        "# Добавить вектор к каждой строке матрицы\n",
        "x = np.array([[1,2,3], [4,5,6]])\n",
        "# x имеет форму (2, 3), а v имеет форму (3,), поэтому они транслируются в (2, 3),\n",
        "# давая следующую матрицу:\n",
        "\n",
        "print(x + v)"
      ]
    },
    {
      "cell_type": "code",
      "execution_count": null,
      "metadata": {
        "colab": {
          "base_uri": "https://localhost:8080/",
          "height": 52
        },
        "id": "T5hKS1QaL9jK",
        "outputId": "5f14ac5c-7a21-4216-e91d-cfce5720a804"
      },
      "outputs": [
        {
          "name": "stdout",
          "output_type": "stream",
          "text": [
            "[[ 5  6  7]\n",
            " [ 9 10 11]]\n"
          ]
        }
      ],
      "source": [
        "# Добавить вектор к каждому столбцу матрицы\n",
        "# x имеет форму (2, 3), а w имеет форму (2,).\n",
        "# Если мы транспонируем x, то он имеет форму (3, 2) и может быть транслирован\n",
        "# против w, чтобы получить результат формы (3, 2); транспонирование этого результата\n",
        "# дает конечный результат формы (2, 3), который является матрицей x с\n",
        "# вектором w, добавленным к каждому столбцу. Дает следующую матрицу:\n",
        "\n",
        "print((x.T + w).T)"
      ]
    },
    {
      "cell_type": "code",
      "execution_count": null,
      "metadata": {
        "colab": {
          "base_uri": "https://localhost:8080/",
          "height": 52
        },
        "id": "JDUrZUl6L9jN",
        "outputId": "53e99a89-c599-406d-9fe3-7aa35ae5fb90"
      },
      "outputs": [
        {
          "name": "stdout",
          "output_type": "stream",
          "text": [
            "[[ 5  6  7]\n",
            " [ 9 10 11]]\n"
          ]
        }
      ],
      "source": [
        "# Другое решение - изменить форму w до вектора-строки формы (2, 1);\n",
        "# затем мы можем транслировать его непосредственно против x, чтобы получить тот же\n",
        "# выход.\n",
        "print(x + np.reshape(w, (2, 1)))"
      ]
    },
    {
      "cell_type": "code",
      "execution_count": null,
      "metadata": {
        "colab": {
          "base_uri": "https://localhost:8080/",
          "height": 52
        },
        "id": "VzrEo4KGL9jP",
        "outputId": "53c9d4cc-32d5-46b0-d090-53c7db57fb32"
      },
      "outputs": [
        {
          "name": "stdout",
          "output_type": "stream",
          "text": [
            "[[ 2  4  6]\n",
            " [ 8 10 12]]\n"
          ]
        }
      ],
      "source": [
        "# Умножить матрицу на константу:\n",
        "# x имеет форму (2, 3). NumPy рассматривает скаляры как массивы формы ();\n",
        "# они могут быть транслированы вместе до формы (2, 3), производя\n",
        "# следующий массив:\n",
        "print(x * 2)"
      ]
    },
    {
      "cell_type": "markdown",
      "metadata": {
        "id": "89e2FXxFL9jQ"
      },
      "source": [
        "**Почему Broadcasting так важен**:\n",
        "- **Скорость**: Избегает медленных циклов Python\n",
        "- **Читаемость**: Код становится понятнее и короче\n",
        "- **Память**: Не создает лишних копий данных\n",
        "- **Естественность**: Операции записываются так, как думаем о них математически\n",
        "\n",
        "**Совет**: Используйте Broadcasting везде, где возможно. Это делает код быстрее и элегантнее!"
      ]
    },
    {
      "cell_type": "markdown",
      "metadata": {
        "id": "iF3ZtwVNL9jQ"
      },
      "source": [
        "---\n",
        "\n",
        "## Заключение\n",
        "\n",
        "**Что вы изучили**: Основы NumPy — фундамент для всей экосистемы Python в Data Science. Теперь вы знаете:\n",
        "- Как создавать и манипулировать массивами\n",
        "- Секреты эффективной индексации\n",
        "- Магию Broadcasting для элегантных вычислений\n",
        "- Основы математических операций\n",
        "\n",
        "**Что дальше**: NumPy — огромная библиотека. Мы показали основы, но впереди еще много интересного: линейная алгебра, Фурье-преобразования, полиномы и многое другое.\n",
        "\n",
        "> **Полная документация и дополнительные примеры доступны в [официальной документации NumPy](http://docs.scipy.org/doc/numpy/reference/)[1].**\n",
        "\n",
        "[1] https://numpy.org/doc/stable/user/quickstart.html"
      ]
    }
  ],
  "metadata": {
    "colab": {
      "include_colab_link": true,
      "provenance": []
    },
    "kernelspec": {
      "display_name": "otus-ds-basic-tutorials",
      "language": "python",
      "name": "python3"
    },
    "language_info": {
      "codemirror_mode": {
        "name": "ipython",
        "version": 3
      },
      "file_extension": ".py",
      "mimetype": "text/x-python",
      "name": "python",
      "nbconvert_exporter": "python",
      "pygments_lexer": "ipython3",
      "version": "3.11.4"
    }
  },
  "nbformat": 4,
  "nbformat_minor": 0
}
